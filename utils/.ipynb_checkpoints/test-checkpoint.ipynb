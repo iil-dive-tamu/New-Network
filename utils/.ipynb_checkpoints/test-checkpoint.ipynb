{
 "cells": [
  {
   "cell_type": "code",
   "execution_count": 8,
   "metadata": {},
   "outputs": [],
   "source": [
    "from PIL import Image\n",
    "import numpy as np\n",
    "import os, sys\n",
    "import numpy as np\n",
    "import tifffile as tiff"
   ]
  },
  {
   "cell_type": "code",
   "execution_count": 2,
   "metadata": {},
   "outputs": [],
   "source": [
    "Im  = np.array((1024,1024,100,15,15,7))"
   ]
  },
  {
   "cell_type": "code",
   "execution_count": 68,
   "metadata": {},
   "outputs": [],
   "source": [
    "prefilepath = r'C:\\Users\\sunzh\\CS636\\Summer project\\BPN\\data\\train-input-split\\train-input-'\n",
    "Im = np.zeros((1024,1024,100))\n",
    "for i in range(0,100):\n",
    "    filepath = prefilepath + str(i) + '.tif'\n",
    "    image = Image.open(filepath)\n",
    "    Im[:,:,i] = image"
   ]
  },
  {
   "cell_type": "code",
   "execution_count": 76,
   "metadata": {},
   "outputs": [],
   "source": [
    "from libtiff import TIFF\n",
    "\n",
    "all_imgs = r'C:\\Users\\sunzh\\CS636\\Summer project\\BPN\\data\\train-input\\train-input.tif'\n",
    "tif = TIFF.open(all_imgs, mode = \"r\")\n",
    "\n",
    "Im1 = np.zeros((1024,1024,100))\n",
    "i = 0\n",
    "for im in list(tif.iter_images()):\n",
    "    Im1[:,:,i] = im\n",
    "    i = i+1\n",
    "\n"
   ]
  },
  {
   "cell_type": "code",
   "execution_count": 12,
   "metadata": {},
   "outputs": [
    {
     "name": "stdout",
     "output_type": "stream",
     "text": [
      "Images are read now\n"
     ]
    },
    {
     "ename": "MemoryError",
     "evalue": "",
     "output_type": "error",
     "traceback": [
      "\u001b[1;31m---------------------------------------------------------------------------\u001b[0m",
      "\u001b[1;31mMemoryError\u001b[0m                               Traceback (most recent call last)",
      "\u001b[1;32m<ipython-input-12-a9f20194dff1>\u001b[0m in \u001b[0;36m<module>\u001b[1;34m\u001b[0m\n\u001b[0;32m      7\u001b[0m \u001b[1;33m\u001b[0m\u001b[0m\n\u001b[0;32m      8\u001b[0m \u001b[1;33m\u001b[0m\u001b[0m\n\u001b[1;32m----> 9\u001b[1;33m \u001b[0mFOV\u001b[0m\u001b[1;33m,\u001b[0m \u001b[0mFOV_label\u001b[0m\u001b[1;33m,\u001b[0m\u001b[0mFOV_IM\u001b[0m\u001b[1;33m,\u001b[0m \u001b[0mImage\u001b[0m \u001b[1;33m=\u001b[0m \u001b[0mget_data\u001b[0m\u001b[1;33m(\u001b[0m\u001b[0mimagepath\u001b[0m\u001b[1;33m,\u001b[0m \u001b[0mlabelpath\u001b[0m\u001b[1;33m,\u001b[0m \u001b[0mpromappath\u001b[0m\u001b[1;33m,\u001b[0m\u001b[1;34m'NONE'\u001b[0m\u001b[1;33m,\u001b[0m\u001b[1;33m[\u001b[0m\u001b[1;36m15\u001b[0m\u001b[1;33m,\u001b[0m\u001b[1;36m15\u001b[0m\u001b[1;33m,\u001b[0m\u001b[1;36m7\u001b[0m\u001b[1;33m]\u001b[0m\u001b[1;33m,\u001b[0m \u001b[1;32mFalse\u001b[0m\u001b[1;33m)\u001b[0m\u001b[1;33m\u001b[0m\u001b[1;33m\u001b[0m\u001b[0m\n\u001b[0m",
      "\u001b[1;32m<ipython-input-11-26bea7f752f1>\u001b[0m in \u001b[0;36mget_data\u001b[1;34m(input_image, input_label, input_probability_map, Padding, Size, Sample, Stride, Depth_Stride)\u001b[0m\n\u001b[0;32m     42\u001b[0m                 \u001b[0mEnd_z\u001b[0m \u001b[1;33m=\u001b[0m \u001b[0mint\u001b[0m\u001b[1;33m(\u001b[0m\u001b[0mImage\u001b[0m\u001b[1;33m.\u001b[0m\u001b[0mshape\u001b[0m\u001b[1;33m[\u001b[0m\u001b[1;36m2\u001b[0m\u001b[1;33m]\u001b[0m \u001b[1;33m-\u001b[0m \u001b[1;33m(\u001b[0m\u001b[0mSize\u001b[0m\u001b[1;33m[\u001b[0m\u001b[1;36m2\u001b[0m\u001b[1;33m]\u001b[0m\u001b[1;33m-\u001b[0m\u001b[1;36m1\u001b[0m\u001b[1;33m)\u001b[0m\u001b[1;33m/\u001b[0m\u001b[1;36m2\u001b[0m\u001b[1;33m)\u001b[0m\u001b[1;33m\u001b[0m\u001b[1;33m\u001b[0m\u001b[0m\n\u001b[0;32m     43\u001b[0m \u001b[1;33m\u001b[0m\u001b[0m\n\u001b[1;32m---> 44\u001b[1;33m                 \u001b[0mFOV\u001b[0m \u001b[1;33m=\u001b[0m \u001b[0mnp\u001b[0m\u001b[1;33m.\u001b[0m\u001b[0mzeros\u001b[0m\u001b[1;33m(\u001b[0m\u001b[1;33m(\u001b[0m\u001b[0mEnd_xy\u001b[0m \u001b[1;33m-\u001b[0m \u001b[0mStart_xy\u001b[0m \u001b[1;33m+\u001b[0m\u001b[1;36m1\u001b[0m\u001b[1;33m,\u001b[0m \u001b[0mEnd_xy\u001b[0m \u001b[1;33m-\u001b[0m \u001b[0mStart_xy\u001b[0m\u001b[1;33m+\u001b[0m\u001b[1;36m1\u001b[0m\u001b[1;33m,\u001b[0m \u001b[0mEnd_z\u001b[0m \u001b[1;33m-\u001b[0m \u001b[0mStart_z\u001b[0m \u001b[1;33m+\u001b[0m\u001b[1;36m1\u001b[0m\u001b[1;33m,\u001b[0m \u001b[0mSize\u001b[0m\u001b[1;33m[\u001b[0m\u001b[1;36m0\u001b[0m\u001b[1;33m]\u001b[0m\u001b[1;33m,\u001b[0m \u001b[0mSize\u001b[0m\u001b[1;33m[\u001b[0m\u001b[1;36m1\u001b[0m\u001b[1;33m]\u001b[0m\u001b[1;33m,\u001b[0m \u001b[0mSize\u001b[0m\u001b[1;33m[\u001b[0m\u001b[1;36m2\u001b[0m\u001b[1;33m]\u001b[0m\u001b[1;33m)\u001b[0m\u001b[1;33m)\u001b[0m\u001b[1;33m.\u001b[0m\u001b[0mastype\u001b[0m\u001b[1;33m(\u001b[0m\u001b[1;34m'int8'\u001b[0m\u001b[1;33m)\u001b[0m\u001b[1;33m\u001b[0m\u001b[1;33m\u001b[0m\u001b[0m\n\u001b[0m\u001b[0;32m     45\u001b[0m                 \u001b[0mFOV_label\u001b[0m \u001b[1;33m=\u001b[0m \u001b[0mnp\u001b[0m\u001b[1;33m.\u001b[0m\u001b[0mzeros\u001b[0m\u001b[1;33m(\u001b[0m\u001b[1;33m(\u001b[0m\u001b[0mEnd_xy\u001b[0m \u001b[1;33m-\u001b[0m \u001b[0mStart_xy\u001b[0m \u001b[1;33m+\u001b[0m\u001b[1;36m1\u001b[0m\u001b[1;33m,\u001b[0m \u001b[0mEnd_xy\u001b[0m \u001b[1;33m-\u001b[0m \u001b[0mStart_xy\u001b[0m\u001b[1;33m+\u001b[0m\u001b[1;36m1\u001b[0m\u001b[1;33m,\u001b[0m \u001b[0mEnd_z\u001b[0m \u001b[1;33m-\u001b[0m \u001b[0mStart_z\u001b[0m \u001b[1;33m+\u001b[0m\u001b[1;36m1\u001b[0m\u001b[1;33m,\u001b[0m \u001b[0mSize\u001b[0m\u001b[1;33m[\u001b[0m\u001b[1;36m0\u001b[0m\u001b[1;33m]\u001b[0m\u001b[1;33m,\u001b[0m \u001b[0mSize\u001b[0m\u001b[1;33m[\u001b[0m\u001b[1;36m1\u001b[0m\u001b[1;33m]\u001b[0m\u001b[1;33m,\u001b[0m \u001b[0mSize\u001b[0m\u001b[1;33m[\u001b[0m\u001b[1;36m2\u001b[0m\u001b[1;33m]\u001b[0m\u001b[1;33m)\u001b[0m\u001b[1;33m)\u001b[0m\u001b[1;33m.\u001b[0m\u001b[0mastype\u001b[0m\u001b[1;33m(\u001b[0m\u001b[1;34m'int8'\u001b[0m\u001b[1;33m)\u001b[0m\u001b[1;33m\u001b[0m\u001b[1;33m\u001b[0m\u001b[0m\n\u001b[0;32m     46\u001b[0m                 \u001b[0mFOV_Im\u001b[0m  \u001b[1;33m=\u001b[0m \u001b[0mnp\u001b[0m\u001b[1;33m.\u001b[0m\u001b[0mzeros\u001b[0m\u001b[1;33m(\u001b[0m\u001b[1;33m(\u001b[0m\u001b[0mEnd_xy\u001b[0m \u001b[1;33m-\u001b[0m \u001b[0mStart_xy\u001b[0m \u001b[1;33m+\u001b[0m\u001b[1;36m1\u001b[0m\u001b[1;33m,\u001b[0m \u001b[0mEnd_xy\u001b[0m \u001b[1;33m-\u001b[0m \u001b[0mStart_xy\u001b[0m\u001b[1;33m+\u001b[0m\u001b[1;36m1\u001b[0m\u001b[1;33m,\u001b[0m \u001b[0mEnd_z\u001b[0m \u001b[1;33m-\u001b[0m \u001b[0mStart_z\u001b[0m \u001b[1;33m+\u001b[0m\u001b[1;36m1\u001b[0m\u001b[1;33m,\u001b[0m \u001b[0mSize\u001b[0m\u001b[1;33m[\u001b[0m\u001b[1;36m0\u001b[0m\u001b[1;33m]\u001b[0m\u001b[1;33m,\u001b[0m \u001b[0mSize\u001b[0m\u001b[1;33m[\u001b[0m\u001b[1;36m1\u001b[0m\u001b[1;33m]\u001b[0m\u001b[1;33m,\u001b[0m \u001b[0mSize\u001b[0m\u001b[1;33m[\u001b[0m\u001b[1;36m2\u001b[0m\u001b[1;33m]\u001b[0m\u001b[1;33m)\u001b[0m\u001b[1;33m)\u001b[0m\u001b[1;33m.\u001b[0m\u001b[0mastype\u001b[0m\u001b[1;33m(\u001b[0m\u001b[1;34m'int8'\u001b[0m\u001b[1;33m)\u001b[0m\u001b[1;33m\u001b[0m\u001b[1;33m\u001b[0m\u001b[0m\n",
      "\u001b[1;31mMemoryError\u001b[0m: "
     ]
    }
   ],
   "source": [
    "\n",
    "\n",
    "imagepath = r'C:\\Users\\sunzh\\CS636\\Summer project\\BPN\\data\\train-input\\train-input.tif'\n",
    "labelpath = r'C:\\Users\\sunzh\\CS636\\Summer project\\BPN\\data\\train-labels\\train-labels.tif'\n",
    "promappath = labelpath\n",
    "\n",
    "\n",
    "\n",
    "FOV, FOV_label,FOV_IM, Image = get_data(imagepath, labelpath, promappath,'NONE',[15,15,7], False)"
   ]
  },
  {
   "cell_type": "code",
   "execution_count": 11,
   "metadata": {},
   "outputs": [],
   "source": [
    "def get_data(input_image = None ,input_label = None, input_probability_map= None, Padding = 'NONE', Size = None ,Sample = False, Stride = 1, Depth_Stride = 1 ):\n",
    "\t\"\"\"\n",
    "\tThis function is the preprocess of the input image,\n",
    "\tit will return 4 np.array: FOV, Cropped Original Image, Cropped label and Full-sized Original Image\n",
    "\n",
    "\tinput_path : path of the folder of the input training image, from parser\n",
    "\tPadding : The model of paading used here, from parser\n",
    "\tSize : The size of Field Of View(FOV), from config\n",
    "\n",
    "\tSample : Using sample mode or not, from config\n",
    "\tStride : Stride on Height and Width, from config\n",
    "\tDepth_Stride : Stride on Depth, from config\n",
    "\t\"\"\"\n",
    "\n",
    "\tif Sample == True:\n",
    "\t\traise ValueError(\"Sample mode has not been implemented\")\n",
    "\tif Size == None or len(Size) != 3:\n",
    "\t\traise ValueError(\"Please specify the size of FOV, it must be in the format of [x,y,z]\")\n",
    "\n",
    "\t# prefilepath = r'C:\\Users\\sunzh\\CS636\\Summer project\\BPN\\data\\train-input-split\\train-input-'\n",
    "\n",
    "\t## Read the image, label and probability map\n",
    "\tImage = tiff.imread(input_image)\n",
    "\tLabel = tiff.imread(input_label)\n",
    "\tPromap = tiff.imread(input_probability_map)\n",
    "\tImage = np.transpose(Image, (2,0,1)).astype('int8')\n",
    "\tLabel = np.transpose(Label, (2,0,1)).astype('int8')\n",
    "\tPromap = np.transpose(Promap, (2,0,1)).astype('int8')\n",
    "\n",
    "\tprint(\"Images are read now\")\n",
    "\n",
    "\tif Image.shape != Label.shape or Image.shape != Promap.shape or Label.shape != Promap.shape:\n",
    "\t\traise ValueError(\"ValueError: Image, Promap and Label should have the same size with each other\")\n",
    "\n",
    "\n",
    "\tr_xy = int((Size[0]-1)/2)\n",
    "\tr_z = int((Size[2]-1) /2)\n",
    "\tif Padding == 'NONE':\n",
    "\t\tStart_xy = int((Size[0]-1)/2)\n",
    "\t\tEnd_xy = int(Image.shape[0] - (Size[0]-1)/2)\n",
    "\t\tStart_z = int((Size[2]-1)/2)\n",
    "\t\tEnd_z = int(Image.shape[2] - (Size[2]-1)/2)\n",
    "\n",
    "\t\tFOV = np.zeros((End_xy - Start_xy +1, End_xy - Start_xy+1, End_z - Start_z +1, Size[0], Size[1], Size[2])).astype('int8')\n",
    "\t\tFOV_label = np.zeros((End_xy - Start_xy +1, End_xy - Start_xy+1, End_z - Start_z +1, Size[0], Size[1], Size[2])).astype('int8')\n",
    "\t\tFOV_Im  = np.zeros((End_xy - Start_xy +1, End_xy - Start_xy+1, End_z - Start_z +1, Size[0], Size[1], Size[2])).astype('int8')\n",
    "\n",
    "\t\tfor i in range(Start_xy, End_xy):\n",
    "\t\t\tfor j in range(Start_z, End_xy):\n",
    "\t\t\t\tFOV[i-Start_xy,i-Start_z,j-Start_z,:,:,:] = Promap[i-Start_xy:i-Start_xy+Size[0], i-Start_xy:i-Start_xy+Size[1], j-Start_z:j-Start_z+Size[2] ]\n",
    "\t\t\t\tFOV_label[i-Start_xy,i-Start_z,j-Start_z,:,:,:] = Label[i-Start_xy:i-Start_xy+Size[0], i-Start_xy:i-Start_xy+Size[1], j-Start_z:j-Start_z+Size[2] ]\n",
    "\t\t\t\tFOV_Im[i-Start_xy,i-Start_z,j-Start_z,:,:,:] = Image[i-Start_xy:i-Start_xy+Size[0], i-Start_xy:i-Start_xy+Size[1], j-Start_z:j-Start_z+Size[2] ]\n",
    "\n",
    "\t\treturn FOV, FOV_label, FOV_Im, Image\n",
    "\telif Padding == 'SAME':\n",
    "\t\tFOV = np.zeros((Promap.shape[0],Promap.shape[1],Promap.shape[2], Size[0], Size[1], Size[2])).astype('int8')\n",
    "\t\tFOV_label = np.zeros((Label.shape[0],Label.shape[1],Label.shape[2], Size[0], Size[1], Size[2])).astype('int8')\n",
    "\t\tFOV_Im  =  np.zeros((Image.shape[0],Image.shape[1],Image.shape[2], Size[0], Size[1], Size[2])).astype('int8')\n",
    "\n",
    "\t\tfor i in range(0,Image.shape[0]):\n",
    "\t\t\tfor j in range(0, Image.shape[2]):\n",
    "\t\t\t\tStart_xy = int(max(0, i- r_xy))\n",
    "\t\t\t\tEnd_xy = int(min(i+r_xy+1,Promap.shape[1]))\n",
    "\t\t\t\tStart_z = int(max(0,j-r_z))\n",
    "\t\t\t\tEnd_z = int(min(j+r_z+1,Promap.shape[2]))\n",
    "\n",
    "\t\t\t\tFOV[i, i, j, r_xy-(i-Start_xy):r_xy+(End_xy-i),r_xy-(i-Start_xy):r_xy+(End_xy-i), r_z-(i-Start_z):r_z+(End_z-i)] = Promap[Start_xy:End_xy, Start_xy:End_xy, Start_z:End_z]\n",
    "\t\t\t\tFOV_label[i, i, j, r_xy-(i-Start_xy):r_xy+(End_xy-i),r_xy-(i-Start_xy):r_xy+(End_xy-i), r_z-(i-Start_z):r_z+(End_z-i)] = Label[Start_xy:End_xy, Start_xy:End_xy, Start_z:End_z]\n",
    "\t\t\t\tFOV_Im[i, i, j, r_xy-(i-Start_xy):r_xy+(End_xy-i),r_xy-(i-Start_xy):r_xy+(End_xy-i), r_z-(i-Start_z):r_z+(End_z-i)] = Image[Start_xy:End_xy, Start_xy:End_xy, Start_z:End_z]\n",
    "\n",
    "\t\treturn FOV, FOV_label, FOV_Im, Image\n",
    "\telse:\n",
    "\t\traise ValueError(\"Padding only support SAME and NONE now\")"
   ]
  },
  {
   "cell_type": "code",
   "execution_count": 11,
   "metadata": {},
   "outputs": [
    {
     "data": {
      "text/plain": [
       "7.0"
      ]
     },
     "execution_count": 11,
     "metadata": {},
     "output_type": "execute_result"
    }
   ],
   "source": [
    "\n",
    "input_image = r'C:\\Users\\sunzh\\CS636\\Summer project\\BPN\\data\\train-input\\train-input.tif' \n",
    "input_label = r'C:\\Users\\sunzh\\CS636\\Summer project\\BPN\\data\\train-labels\\train-labels.tif'\n",
    "input_probability_map= r'C:\\Users\\sunzh\\CS636\\Summer project\\BPN\\data\\train-labels\\train-labels.tif'\n",
    "Padding = 'NONE'\n",
    "Size = [15,15,7]\n",
    "Sample = False\n",
    "Stride = 1\n",
    "Depth_Stride = 1 \n",
    "\n",
    "\n",
    "\n",
    "\n",
    "\n",
    "if Sample == True:\n",
    "    raise ValueError(\"Sample mode has not been implemented\")\n",
    "if Size == None or len(Size) != 3:\n",
    "    raise ValueError(\"Please specify the size of FOV, it must be in the format of [x,y,z]\")\n",
    "\n",
    "# prefilepath = r'C:\\Users\\sunzh\\CS636\\Summer project\\BPN\\data\\train-input-split\\train-input-'\n",
    "\n",
    "## Read the image, label and probability map\n",
    "Image = tiff.imread(input_image)\n",
    "Label = tiff.imread(input_label)\n",
    "Promap = tiff.imread(input_probability_map)\n",
    "Image = np.transpose(Image, (2,0,1)).astype('int8')\n",
    "Label = np.transpose(Label, (2,0,1)).astype('int8')\n",
    "Promap = np.transpose(Promap, (2,0,1)).astype('int8')\n",
    "\n",
    "print(\"Images are read now\")\n",
    "\n",
    "if Image.shape != Label.shape or Image.shape != Promap.shape or Label.shape != Promap.shape:\n",
    "    raise ValueError(\"ValueError: Image, Promap and Label should have the same size with each other\")\n",
    "\n",
    "\n",
    "r_xy = int((Size[0]-1)/2)\n",
    "r_z = int((Size[2]-1) /2)\n",
    "if Padding == 'NONE':\n",
    "    Start_xy = int((Size[0]-1)/2)\n",
    "    End_xy = int(Image.shape[0] - (Size[0]-1)/2)\n",
    "    Start_z = int((Size[2]-1)/2)\n",
    "    End_z = int(Image.shape[2] - (Size[2]-1)/2)\n",
    "\n",
    "    FOV = np.zeros((End_xy - Start_xy +1, End_xy - Start_xy+1, End_z - Start_z +1, Size[0], Size[1], Size[2])).astype('int8')\n",
    "    FOV_label = np.zeros((End_xy - Start_xy +1, End_xy - Start_xy+1, End_z - Start_z +1, Size[0], Size[1], Size[2])).astype('int8')\n",
    "    FOV_Im  = np.zeros((End_xy - Start_xy +1, End_xy - Start_xy+1, End_z - Start_z +1, Size[0], Size[1], Size[2])).astype('int8')\n",
    "\n",
    "    for i in range(Start_xy, End_xy):\n",
    "        for j in range(Start_z, End_xy):\n",
    "            FOV[i-Start_xy,i-Start_z,j-Start_z,:,:,:] = Promap[i-Start_xy:i-Start_xy+Size[0], i-Start_xy:i-Start_xy+Size[1], j-Start_z:j-Start_z+Size[2] ]\n",
    "            FOV_label[i-Start_xy,i-Start_z,j-Start_z,:,:,:] = Label[i-Start_xy:i-Start_xy+Size[0], i-Start_xy:i-Start_xy+Size[1], j-Start_z:j-Start_z+Size[2] ]\n",
    "            FOV_Im[i-Start_xy,i-Start_z,j-Start_z,:,:,:] = Image[i-Start_xy:i-Start_xy+Size[0], i-Start_xy:i-Start_xy+Size[1], j-Start_z:j-Start_z+Size[2] ]\n",
    "\n",
    "    return FOV, FOV_label, FOV_Im, Image\n",
    "elif Padding == 'SAME':\n",
    "    FOV = np.zeros((Promap.shape[0],Promap.shape[1],Promap.shape[2], Size[0], Size[1], Size[2])).astype('int8')\n",
    "    FOV_label = np.zeros((Label.shape[0],Label.shape[1],Label.shape[2], Size[0], Size[1], Size[2])).astype('int8')\n",
    "    FOV_Im  =  np.zeros((Image.shape[0],Image.shape[1],Image.shape[2], Size[0], Size[1], Size[2])).astype('int8')\n",
    "\n",
    "    for i in range(0,Image.shape[0]):\n",
    "        for j in range(0, Image.shape[2]):\n",
    "            Start_xy = int(max(0, i- r_xy))\n",
    "            End_xy = int(min(i+r_xy+1,Promap.shape[1]))\n",
    "            Start_z = int(max(0,j-r_z))\n",
    "            End_z = int(min(j+r_z+1,Promap.shape[2]))\n",
    "\n",
    "            FOV[i, i, j, r_xy-(i-Start_xy):r_xy+(End_xy-i),r_xy-(i-Start_xy):r_xy+(End_xy-i), r_z-(i-Start_z):r_z+(End_z-i)] = Promap[Start_xy:End_xy, Start_xy:End_xy, Start_z:End_z]\n",
    "            FOV_label[i, i, j, r_xy-(i-Start_xy):r_xy+(End_xy-i),r_xy-(i-Start_xy):r_xy+(End_xy-i), r_z-(i-Start_z):r_z+(End_z-i)] = Label[Start_xy:End_xy, Start_xy:End_xy, Start_z:End_z]\n",
    "            FOV_Im[i, i, j, r_xy-(i-Start_xy):r_xy+(End_xy-i),r_xy-(i-Start_xy):r_xy+(End_xy-i), r_z-(i-Start_z):r_z+(End_z-i)] = Image[Start_xy:End_xy, Start_xy:End_xy, Start_z:End_z]\n",
    "\n",
    "    return FOV, FOV_label, FOV_Im, Image\n",
    "else:\n",
    "    raise ValueError(\"Padding only support SAME and NONE now\")"
   ]
  }
 ],
 "metadata": {
  "kernelspec": {
   "display_name": "Python 3",
   "language": "python",
   "name": "python3"
  },
  "language_info": {
   "codemirror_mode": {
    "name": "ipython",
    "version": 3
   },
   "file_extension": ".py",
   "mimetype": "text/x-python",
   "name": "python",
   "nbconvert_exporter": "python",
   "pygments_lexer": "ipython3",
   "version": "3.6.8"
  }
 },
 "nbformat": 4,
 "nbformat_minor": 2
}
