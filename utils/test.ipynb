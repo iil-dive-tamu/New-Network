{
 "cells": [
  {
   "cell_type": "code",
   "execution_count": 1,
   "metadata": {},
   "outputs": [],
   "source": [
    "from PIL import Image\n",
    "import numpy as np\n",
    "import os, sys\n",
    "import numpy as np\n",
    "import tifffile as tiff\n",
    "# from tensorflow.keras.preprocessing.image import ImageDataGenerator\n",
    "import itertools"
   ]
  },
  {
   "cell_type": "code",
   "execution_count": 7,
   "metadata": {},
   "outputs": [
    {
     "data": {
      "text/plain": [
       "array([[ 0.84609509, -0.78553266, -1.1829349 , -1.09876101,  1.67115586],\n",
       "       [-0.48756372,  1.97275739,  1.9904729 ,  1.31606284, -4.07493552],\n",
       "       [ 3.33993287,  1.51068297, -2.75577037,  2.02680488, -0.23203789]])"
      ]
     },
     "execution_count": 7,
     "metadata": {},
     "output_type": "execute_result"
    }
   ],
   "source": [
    "a = np.random.random((3,5))\n",
    "\n",
    "\n",
    "epsilon = 0.0000001\n",
    "\n",
    "b = a/((1-a)+epsilon)\n",
    "\n",
    "\n",
    "c = np.log2(b)\n",
    "c"
   ]
  },
  {
   "cell_type": "code",
   "execution_count": 9,
   "metadata": {},
   "outputs": [],
   "source": [
    "def recycle():\n",
    "    for i in range(5):\n",
    "        yield i\n",
    "        \n",
    "a = itertools.cycle(recycle(),)\n"
   ]
  },
  {
   "cell_type": "code",
   "execution_count": 14,
   "metadata": {},
   "outputs": [
    {
     "data": {
      "text/plain": [
       "array([0., 0., 0., 0., 0.])"
      ]
     },
     "execution_count": 14,
     "metadata": {},
     "output_type": "execute_result"
    }
   ],
   "source": [
    "np.zeros(5)"
   ]
  },
  {
   "cell_type": "code",
   "execution_count": 33,
   "metadata": {},
   "outputs": [
    {
     "name": "stdout",
     "output_type": "stream",
     "text": [
      "[[0 4]\n",
      " [4 4]]\n",
      "[[2 3]\n",
      " [1 1]]\n"
     ]
    },
    {
     "data": {
      "text/plain": [
       "array([[ 0, 12],\n",
       "       [ 4,  4]])"
      ]
     },
     "execution_count": 33,
     "metadata": {},
     "output_type": "execute_result"
    }
   ],
   "source": [
    "a = np.ones((2,2)).astype('int8')\n",
    "a[0,0] = 0\n",
    "a = a * 4\n",
    "\n",
    "\n",
    "\n",
    "\n",
    "b = np.where(a > 0, 1, 0)\n",
    "b[0,0] = 2\n",
    "b[0,1] = 3\n",
    "print(a)\n",
    "print(b)\n",
    "\n",
    "a*b"
   ]
  },
  {
   "cell_type": "code",
   "execution_count": 35,
   "metadata": {},
   "outputs": [
    {
     "data": {
      "text/plain": [
       "2"
      ]
     },
     "execution_count": 35,
     "metadata": {},
     "output_type": "execute_result"
    }
   ],
   "source": []
  },
  {
   "cell_type": "code",
   "execution_count": 14,
   "metadata": {},
   "outputs": [
    {
     "data": {
      "text/plain": [
       "True"
      ]
     },
     "execution_count": 14,
     "metadata": {},
     "output_type": "execute_result"
    }
   ],
   "source": [
    "Path = r'C:\\Users\\sunzh\\CS636\\Summer project\\BPN\\data'\n",
    "os.path.isfile(Path + r'\\FOV\\FOV_%d%d%d_0.tif'%( 16,16,8))"
   ]
  },
  {
   "cell_type": "code",
   "execution_count": 18,
   "metadata": {},
   "outputs": [
    {
     "data": {
      "text/plain": [
       "dtype('float64')"
      ]
     },
     "execution_count": 18,
     "metadata": {},
     "output_type": "execute_result"
    }
   ],
   "source": [
    "a = np.zeros((2,2,2)).astype('float')\n",
    "a[1] = 2\n",
    "a[1,1] = 4\n",
    "b = np.std(a)\n",
    "c = np.mean(a)\n",
    "\n",
    "d = a - c\n",
    "\n",
    "e = np.concatenate((a,d), axis = 0)\n"
   ]
  },
  {
   "cell_type": "code",
   "execution_count": 1,
   "metadata": {},
   "outputs": [
    {
     "data": {
      "text/plain": [
       "str"
      ]
     },
     "execution_count": 1,
     "metadata": {},
     "output_type": "execute_result"
    }
   ],
   "source": [
    "imagepath = r'C:\\Users\\sunzh\\CS636\\Summer project\\BPN\\data\\train-input\\train-input.tif'\n",
    "type(imagepath)"
   ]
  },
  {
   "cell_type": "code",
   "execution_count": 6,
   "metadata": {},
   "outputs": [
    {
     "ename": "NameError",
     "evalue": "name 'config' is not defined",
     "output_type": "error",
     "traceback": [
      "\u001b[1;31m---------------------------------------------------------------------------\u001b[0m",
      "\u001b[1;31mNameError\u001b[0m                                 Traceback (most recent call last)",
      "\u001b[1;32m<ipython-input-6-10bdf15487cb>\u001b[0m in \u001b[0;36m<module>\u001b[1;34m\u001b[0m\n\u001b[0;32m      1\u001b[0m \u001b[1;32mfrom\u001b[0m \u001b[0mconfig\u001b[0m \u001b[1;32mimport\u001b[0m \u001b[0mConfig\u001b[0m\u001b[1;33m\u001b[0m\u001b[1;33m\u001b[0m\u001b[0m\n\u001b[1;32m----> 2\u001b[1;33m \u001b[0mC\u001b[0m \u001b[1;33m=\u001b[0m \u001b[0mconfig\u001b[0m\u001b[1;33m.\u001b[0m\u001b[0mConfig\u001b[0m\u001b[1;33m(\u001b[0m\u001b[1;33m)\u001b[0m\u001b[1;33m\u001b[0m\u001b[1;33m\u001b[0m\u001b[0m\n\u001b[0m",
      "\u001b[1;31mNameError\u001b[0m: name 'config' is not defined"
     ]
    }
   ],
   "source": [
    "from config import Config\n"
   ]
  },
  {
   "cell_type": "code",
   "execution_count": 14,
   "metadata": {},
   "outputs": [],
   "source": [
    "imagepath = r'C:\\Users\\sunzh\\CS636\\Summer project\\BPN\\data\\train-input\\train-input.tif'\n",
    "Image = tiff.imread(imagepath)\n",
    "Image = np.transpose(Image, (2,0,1))\n",
    "# Image1 = np.transpose(Image, (2,0,1))\n",
    "\n",
    "patch = Image[0:33,0:33,0:17]\n",
    "tiff.imsave(r'C:\\Users\\sunzh\\CS636\\Summer project\\BPN\\data\\train-input\\train-input-patch.tif',patch)"
   ]
  },
  {
   "cell_type": "code",
   "execution_count": 11,
   "metadata": {},
   "outputs": [
    {
     "name": "stdout",
     "output_type": "stream",
     "text": [
      "Help on function imwrite in module tifffile.tifffile:\n",
      "\n",
      "imwrite(file, data=None, shape=None, dtype=None, **kwargs)\n",
      "    Write numpy array to TIFF file.\n",
      "    \n",
      "    Refer to the TiffWriter class and its asarray function for documentation.\n",
      "    \n",
      "    A BigTIFF file is created if the data size in bytes is larger than 4 GB\n",
      "    minus 32 MB (for metadata), and 'bigtiff' is not specified, and 'imagej'\n",
      "    or 'truncate' are not enabled.\n",
      "    \n",
      "    Parameters\n",
      "    ----------\n",
      "    file : str or binary stream\n",
      "        File name or writable binary stream, such as an open file or BytesIO.\n",
      "    data : array_like\n",
      "        Input image. The last dimensions are assumed to be image depth,\n",
      "        height, width, and samples.\n",
      "        If None, an empty array of the specified shape and dtype is\n",
      "        saved to file.\n",
      "        Unless 'byteorder' is specified in 'kwargs', the TIFF file byte order\n",
      "        is determined from the data's dtype or the dtype argument.\n",
      "    shape : tuple\n",
      "        If 'data' is None, shape of an empty array to save to the file.\n",
      "    dtype : numpy.dtype\n",
      "        If 'data' is None, datatype of an empty array to save to the file.\n",
      "    kwargs : dict\n",
      "        Parameters 'append', 'byteorder', 'bigtiff', and 'imagej', are passed\n",
      "        to the TiffWriter constructor. Other parameters are passed to the\n",
      "        TiffWriter.save function.\n",
      "    \n",
      "    Returns\n",
      "    -------\n",
      "    offset, bytecount : tuple or None\n",
      "        If the image data are written contiguously, return offset and bytecount\n",
      "        of image data in the file.\n",
      "\n"
     ]
    }
   ],
   "source": [
    "help(tiff.imsave)"
   ]
  },
  {
   "cell_type": "code",
   "execution_count": 5,
   "metadata": {},
   "outputs": [
    {
     "data": {
      "text/plain": [
       "array([[[333, 333, 333, ...,   1,   1,   1],\n",
       "        [333, 333, 333, ...,   1,   1,   1],\n",
       "        [333, 333, 333, ...,   1,   1,   1],\n",
       "        ...,\n",
       "        [  0,   0,   0, ...,   1,   1,   1],\n",
       "        [  0,   0,   0, ...,   1,   1,   1],\n",
       "        [  0,   0,   0, ...,   1,   1,   1]],\n",
       "\n",
       "       [[333, 333, 333, ...,   1,   1,   1],\n",
       "        [333, 333, 333, ...,   1,   1,   1],\n",
       "        [333, 333, 333, ...,   1,   1,   1],\n",
       "        ...,\n",
       "        [  0,   0,   0, ...,   1,   1,   1],\n",
       "        [  0,   0,   0, ...,   1,   1,   1],\n",
       "        [  0,   0,   0, ...,   1,   1,   1]],\n",
       "\n",
       "       [[333, 333, 333, ...,   1,   1,   1],\n",
       "        [333, 333, 333, ...,   1,   1,   1],\n",
       "        [333, 333, 333, ...,   1,   1,   1],\n",
       "        ...,\n",
       "        [  0,   0,   0, ...,   1,   1,   1],\n",
       "        [  0,   0,   0, ...,   1,   1,   1],\n",
       "        [  0,   0,   0, ...,   1,   1,   1]],\n",
       "\n",
       "       ...,\n",
       "\n",
       "       [[381, 381, 381, ...,   0,   0,   0],\n",
       "        [381, 381, 381, ...,   0,   0,   0],\n",
       "        [381, 381, 381, ...,   0,   0,   0],\n",
       "        ...,\n",
       "        [  0,   0,   0, ...,  10,  10,  10],\n",
       "        [  0,   0,   0, ...,  10,  10,  10],\n",
       "        [  0,   0,   0, ...,  10,  10,  10]],\n",
       "\n",
       "       [[381, 381, 381, ...,   0,   0,   0],\n",
       "        [381, 381, 381, ...,   0,   0,   0],\n",
       "        [381, 381, 381, ...,   0,   0,   0],\n",
       "        ...,\n",
       "        [  0,   0,   0, ...,  10,  10,  10],\n",
       "        [  0,   0,   0, ...,  10,  10,  10],\n",
       "        [  0,   0,   0, ...,  10,  10,  10]],\n",
       "\n",
       "       [[381, 381, 381, ...,   0,   0,   0],\n",
       "        [381, 381, 381, ...,   0,   0,   0],\n",
       "        [381, 381, 381, ...,   0,   0,   0],\n",
       "        ...,\n",
       "        [  0,   0,   0, ...,  10,  10,  10],\n",
       "        [  0,   0,   0, ...,  10,  10,  10],\n",
       "        [  0,   0,   0, ...,  10,  10,  10]]], dtype=uint16)"
      ]
     },
     "execution_count": 5,
     "metadata": {},
     "output_type": "execute_result"
    }
   ],
   "source": [
    "imagepathpatch = r'C:\\Users\\sunzh\\CS636\\Summer project\\BPN\\data\\train-input\\train-input-patch.tif'\n",
    "labelpath = r'C:\\Users\\sunzh\\CS636\\Summer project\\BPN\\data\\train-labels\\train-labels.tif'\n",
    "\n",
    "ImagePatch = tiff.imread(labelpath)\n",
    "ImagePatch = np.transpose(ImagePatch, (2,0,1))\n",
    "ImagePatch"
   ]
  },
  {
   "cell_type": "code",
   "execution_count": 16,
   "metadata": {},
   "outputs": [
    {
     "data": {
      "text/plain": [
       "array([[[200, 210, 208, ..., 175, 177, 176],\n",
       "        [204, 219, 232, ..., 233, 231, 218],\n",
       "        [174, 173, 179, ..., 185, 184, 173],\n",
       "        ...,\n",
       "        [182, 184, 202, ..., 196, 199, 203],\n",
       "        [183, 197, 217, ..., 224, 230, 234],\n",
       "        [192, 190, 198, ..., 240, 234, 245]],\n",
       "\n",
       "       [[184, 206, 210, ..., 173, 167, 175],\n",
       "        [208, 216, 236, ..., 222, 221, 219],\n",
       "        [169, 171, 182, ..., 186, 175, 165],\n",
       "        ...,\n",
       "        [195, 197, 213, ..., 179, 194, 201],\n",
       "        [184, 200, 220, ..., 234, 232, 231],\n",
       "        [201, 205, 199, ..., 241, 243, 239]],\n",
       "\n",
       "       [[180, 194, 211, ..., 181, 175, 184],\n",
       "        [207, 215, 226, ..., 224, 225, 214],\n",
       "        [165, 172, 188, ..., 179, 173, 149],\n",
       "        ...,\n",
       "        [209, 205, 210, ..., 169, 196, 198],\n",
       "        [186, 196, 206, ..., 227, 227, 229],\n",
       "        [222, 216, 218, ..., 235, 244, 239]],\n",
       "\n",
       "       ...,\n",
       "\n",
       "       [[185, 175, 174, ..., 192, 182, 177],\n",
       "        [182, 189, 188, ..., 191, 195, 222],\n",
       "        [120, 138, 136, ..., 163, 146, 150],\n",
       "        ...,\n",
       "        [166, 166, 177, ...,  94, 123, 166],\n",
       "        [227, 222, 210, ..., 230, 233, 227],\n",
       "        [219, 227, 236, ..., 202, 191, 191]],\n",
       "\n",
       "       [[175, 164, 166, ..., 191, 194, 182],\n",
       "        [176, 180, 198, ..., 198, 200, 215],\n",
       "        [123, 129, 131, ..., 169, 156, 159],\n",
       "        ...,\n",
       "        [182, 204, 195, ..., 116, 142, 194],\n",
       "        [226, 219, 208, ..., 229, 228, 214],\n",
       "        [221, 231, 234, ..., 196, 192, 191]],\n",
       "\n",
       "       [[163, 177, 177, ..., 180, 181, 172],\n",
       "        [175, 184, 197, ..., 216, 212, 224],\n",
       "        [130, 126, 138, ..., 167, 168, 172],\n",
       "        ...,\n",
       "        [192, 206, 193, ..., 129, 157, 190],\n",
       "        [222, 224, 219, ..., 227, 219, 216],\n",
       "        [224, 230, 231, ..., 193, 192, 200]]], dtype=uint8)"
      ]
     },
     "execution_count": 16,
     "metadata": {},
     "output_type": "execute_result"
    }
   ],
   "source": [
    "Image[0:33,0:33,0:17]"
   ]
  },
  {
   "cell_type": "code",
   "execution_count": 17,
   "metadata": {},
   "outputs": [
    {
     "data": {
      "text/plain": [
       "array([[[200, 204, 174, ..., 182, 183, 192],\n",
       "        [184, 208, 169, ..., 195, 184, 201],\n",
       "        [180, 207, 165, ..., 209, 186, 222],\n",
       "        ...,\n",
       "        [185, 182, 120, ..., 166, 227, 219],\n",
       "        [175, 176, 123, ..., 182, 226, 221],\n",
       "        [163, 175, 130, ..., 192, 222, 224]],\n",
       "\n",
       "       [[210, 219, 173, ..., 184, 197, 190],\n",
       "        [206, 216, 171, ..., 197, 200, 205],\n",
       "        [194, 215, 172, ..., 205, 196, 216],\n",
       "        ...,\n",
       "        [175, 189, 138, ..., 166, 222, 227],\n",
       "        [164, 180, 129, ..., 204, 219, 231],\n",
       "        [177, 184, 126, ..., 206, 224, 230]],\n",
       "\n",
       "       [[208, 232, 179, ..., 202, 217, 198],\n",
       "        [210, 236, 182, ..., 213, 220, 199],\n",
       "        [211, 226, 188, ..., 210, 206, 218],\n",
       "        ...,\n",
       "        [174, 188, 136, ..., 177, 210, 236],\n",
       "        [166, 198, 131, ..., 195, 208, 234],\n",
       "        [177, 197, 138, ..., 193, 219, 231]],\n",
       "\n",
       "       ...,\n",
       "\n",
       "       [[175, 233, 185, ..., 196, 224, 240],\n",
       "        [173, 222, 186, ..., 179, 234, 241],\n",
       "        [181, 224, 179, ..., 169, 227, 235],\n",
       "        ...,\n",
       "        [192, 191, 163, ...,  94, 230, 202],\n",
       "        [191, 198, 169, ..., 116, 229, 196],\n",
       "        [180, 216, 167, ..., 129, 227, 193]],\n",
       "\n",
       "       [[177, 231, 184, ..., 199, 230, 234],\n",
       "        [167, 221, 175, ..., 194, 232, 243],\n",
       "        [175, 225, 173, ..., 196, 227, 244],\n",
       "        ...,\n",
       "        [182, 195, 146, ..., 123, 233, 191],\n",
       "        [194, 200, 156, ..., 142, 228, 192],\n",
       "        [181, 212, 168, ..., 157, 219, 192]],\n",
       "\n",
       "       [[176, 218, 173, ..., 203, 234, 245],\n",
       "        [175, 219, 165, ..., 201, 231, 239],\n",
       "        [184, 214, 149, ..., 198, 229, 239],\n",
       "        ...,\n",
       "        [177, 222, 150, ..., 166, 227, 191],\n",
       "        [182, 215, 159, ..., 194, 214, 191],\n",
       "        [172, 224, 172, ..., 190, 216, 200]]], dtype=uint8)"
      ]
     },
     "execution_count": 17,
     "metadata": {},
     "output_type": "execute_result"
    }
   ],
   "source": [
    "ImagePatch"
   ]
  },
  {
   "cell_type": "code",
   "execution_count": 12,
   "metadata": {},
   "outputs": [
    {
     "name": "stdout",
     "output_type": "stream",
     "text": [
      "Images are read now\n"
     ]
    },
    {
     "ename": "MemoryError",
     "evalue": "",
     "output_type": "error",
     "traceback": [
      "\u001b[1;31m---------------------------------------------------------------------------\u001b[0m",
      "\u001b[1;31mMemoryError\u001b[0m                               Traceback (most recent call last)",
      "\u001b[1;32m<ipython-input-12-a9f20194dff1>\u001b[0m in \u001b[0;36m<module>\u001b[1;34m\u001b[0m\n\u001b[0;32m      7\u001b[0m \u001b[1;33m\u001b[0m\u001b[0m\n\u001b[0;32m      8\u001b[0m \u001b[1;33m\u001b[0m\u001b[0m\n\u001b[1;32m----> 9\u001b[1;33m \u001b[0mFOV\u001b[0m\u001b[1;33m,\u001b[0m \u001b[0mFOV_label\u001b[0m\u001b[1;33m,\u001b[0m\u001b[0mFOV_IM\u001b[0m\u001b[1;33m,\u001b[0m \u001b[0mImage\u001b[0m \u001b[1;33m=\u001b[0m \u001b[0mget_data\u001b[0m\u001b[1;33m(\u001b[0m\u001b[0mimagepath\u001b[0m\u001b[1;33m,\u001b[0m \u001b[0mlabelpath\u001b[0m\u001b[1;33m,\u001b[0m \u001b[0mpromappath\u001b[0m\u001b[1;33m,\u001b[0m\u001b[1;34m'NONE'\u001b[0m\u001b[1;33m,\u001b[0m\u001b[1;33m[\u001b[0m\u001b[1;36m15\u001b[0m\u001b[1;33m,\u001b[0m\u001b[1;36m15\u001b[0m\u001b[1;33m,\u001b[0m\u001b[1;36m7\u001b[0m\u001b[1;33m]\u001b[0m\u001b[1;33m,\u001b[0m \u001b[1;32mFalse\u001b[0m\u001b[1;33m)\u001b[0m\u001b[1;33m\u001b[0m\u001b[1;33m\u001b[0m\u001b[0m\n\u001b[0m",
      "\u001b[1;32m<ipython-input-11-26bea7f752f1>\u001b[0m in \u001b[0;36mget_data\u001b[1;34m(input_image, input_label, input_probability_map, Padding, Size, Sample, Stride, Depth_Stride)\u001b[0m\n\u001b[0;32m     42\u001b[0m                 \u001b[0mEnd_z\u001b[0m \u001b[1;33m=\u001b[0m \u001b[0mint\u001b[0m\u001b[1;33m(\u001b[0m\u001b[0mImage\u001b[0m\u001b[1;33m.\u001b[0m\u001b[0mshape\u001b[0m\u001b[1;33m[\u001b[0m\u001b[1;36m2\u001b[0m\u001b[1;33m]\u001b[0m \u001b[1;33m-\u001b[0m \u001b[1;33m(\u001b[0m\u001b[0mSize\u001b[0m\u001b[1;33m[\u001b[0m\u001b[1;36m2\u001b[0m\u001b[1;33m]\u001b[0m\u001b[1;33m-\u001b[0m\u001b[1;36m1\u001b[0m\u001b[1;33m)\u001b[0m\u001b[1;33m/\u001b[0m\u001b[1;36m2\u001b[0m\u001b[1;33m)\u001b[0m\u001b[1;33m\u001b[0m\u001b[1;33m\u001b[0m\u001b[0m\n\u001b[0;32m     43\u001b[0m \u001b[1;33m\u001b[0m\u001b[0m\n\u001b[1;32m---> 44\u001b[1;33m                 \u001b[0mFOV\u001b[0m \u001b[1;33m=\u001b[0m \u001b[0mnp\u001b[0m\u001b[1;33m.\u001b[0m\u001b[0mzeros\u001b[0m\u001b[1;33m(\u001b[0m\u001b[1;33m(\u001b[0m\u001b[0mEnd_xy\u001b[0m \u001b[1;33m-\u001b[0m \u001b[0mStart_xy\u001b[0m \u001b[1;33m+\u001b[0m\u001b[1;36m1\u001b[0m\u001b[1;33m,\u001b[0m \u001b[0mEnd_xy\u001b[0m \u001b[1;33m-\u001b[0m \u001b[0mStart_xy\u001b[0m\u001b[1;33m+\u001b[0m\u001b[1;36m1\u001b[0m\u001b[1;33m,\u001b[0m \u001b[0mEnd_z\u001b[0m \u001b[1;33m-\u001b[0m \u001b[0mStart_z\u001b[0m \u001b[1;33m+\u001b[0m\u001b[1;36m1\u001b[0m\u001b[1;33m,\u001b[0m \u001b[0mSize\u001b[0m\u001b[1;33m[\u001b[0m\u001b[1;36m0\u001b[0m\u001b[1;33m]\u001b[0m\u001b[1;33m,\u001b[0m \u001b[0mSize\u001b[0m\u001b[1;33m[\u001b[0m\u001b[1;36m1\u001b[0m\u001b[1;33m]\u001b[0m\u001b[1;33m,\u001b[0m \u001b[0mSize\u001b[0m\u001b[1;33m[\u001b[0m\u001b[1;36m2\u001b[0m\u001b[1;33m]\u001b[0m\u001b[1;33m)\u001b[0m\u001b[1;33m)\u001b[0m\u001b[1;33m.\u001b[0m\u001b[0mastype\u001b[0m\u001b[1;33m(\u001b[0m\u001b[1;34m'int8'\u001b[0m\u001b[1;33m)\u001b[0m\u001b[1;33m\u001b[0m\u001b[1;33m\u001b[0m\u001b[0m\n\u001b[0m\u001b[0;32m     45\u001b[0m                 \u001b[0mFOV_label\u001b[0m \u001b[1;33m=\u001b[0m \u001b[0mnp\u001b[0m\u001b[1;33m.\u001b[0m\u001b[0mzeros\u001b[0m\u001b[1;33m(\u001b[0m\u001b[1;33m(\u001b[0m\u001b[0mEnd_xy\u001b[0m \u001b[1;33m-\u001b[0m \u001b[0mStart_xy\u001b[0m \u001b[1;33m+\u001b[0m\u001b[1;36m1\u001b[0m\u001b[1;33m,\u001b[0m \u001b[0mEnd_xy\u001b[0m \u001b[1;33m-\u001b[0m \u001b[0mStart_xy\u001b[0m\u001b[1;33m+\u001b[0m\u001b[1;36m1\u001b[0m\u001b[1;33m,\u001b[0m \u001b[0mEnd_z\u001b[0m \u001b[1;33m-\u001b[0m \u001b[0mStart_z\u001b[0m \u001b[1;33m+\u001b[0m\u001b[1;36m1\u001b[0m\u001b[1;33m,\u001b[0m \u001b[0mSize\u001b[0m\u001b[1;33m[\u001b[0m\u001b[1;36m0\u001b[0m\u001b[1;33m]\u001b[0m\u001b[1;33m,\u001b[0m \u001b[0mSize\u001b[0m\u001b[1;33m[\u001b[0m\u001b[1;36m1\u001b[0m\u001b[1;33m]\u001b[0m\u001b[1;33m,\u001b[0m \u001b[0mSize\u001b[0m\u001b[1;33m[\u001b[0m\u001b[1;36m2\u001b[0m\u001b[1;33m]\u001b[0m\u001b[1;33m)\u001b[0m\u001b[1;33m)\u001b[0m\u001b[1;33m.\u001b[0m\u001b[0mastype\u001b[0m\u001b[1;33m(\u001b[0m\u001b[1;34m'int8'\u001b[0m\u001b[1;33m)\u001b[0m\u001b[1;33m\u001b[0m\u001b[1;33m\u001b[0m\u001b[0m\n\u001b[0;32m     46\u001b[0m                 \u001b[0mFOV_Im\u001b[0m  \u001b[1;33m=\u001b[0m \u001b[0mnp\u001b[0m\u001b[1;33m.\u001b[0m\u001b[0mzeros\u001b[0m\u001b[1;33m(\u001b[0m\u001b[1;33m(\u001b[0m\u001b[0mEnd_xy\u001b[0m \u001b[1;33m-\u001b[0m \u001b[0mStart_xy\u001b[0m \u001b[1;33m+\u001b[0m\u001b[1;36m1\u001b[0m\u001b[1;33m,\u001b[0m \u001b[0mEnd_xy\u001b[0m \u001b[1;33m-\u001b[0m \u001b[0mStart_xy\u001b[0m\u001b[1;33m+\u001b[0m\u001b[1;36m1\u001b[0m\u001b[1;33m,\u001b[0m \u001b[0mEnd_z\u001b[0m \u001b[1;33m-\u001b[0m \u001b[0mStart_z\u001b[0m \u001b[1;33m+\u001b[0m\u001b[1;36m1\u001b[0m\u001b[1;33m,\u001b[0m \u001b[0mSize\u001b[0m\u001b[1;33m[\u001b[0m\u001b[1;36m0\u001b[0m\u001b[1;33m]\u001b[0m\u001b[1;33m,\u001b[0m \u001b[0mSize\u001b[0m\u001b[1;33m[\u001b[0m\u001b[1;36m1\u001b[0m\u001b[1;33m]\u001b[0m\u001b[1;33m,\u001b[0m \u001b[0mSize\u001b[0m\u001b[1;33m[\u001b[0m\u001b[1;36m2\u001b[0m\u001b[1;33m]\u001b[0m\u001b[1;33m)\u001b[0m\u001b[1;33m)\u001b[0m\u001b[1;33m.\u001b[0m\u001b[0mastype\u001b[0m\u001b[1;33m(\u001b[0m\u001b[1;34m'int8'\u001b[0m\u001b[1;33m)\u001b[0m\u001b[1;33m\u001b[0m\u001b[1;33m\u001b[0m\u001b[0m\n",
      "\u001b[1;31mMemoryError\u001b[0m: "
     ]
    }
   ],
   "source": [
    "\n",
    "\n",
    "imagepath = r'C:\\Users\\sunzh\\CS636\\Summer project\\BPN\\data\\train-input\\train-input.tif'\n",
    "labelpath = r'C:\\Users\\sunzh\\CS636\\Summer project\\BPN\\data\\train-labels\\train-labels.tif'\n",
    "promappath = labelpath\n",
    "\n",
    "\n",
    "\n",
    "FOV, FOV_label,FOV_IM, Image = get_data(imagepath, labelpath, promappath,'NONE',[15,15,7], False)"
   ]
  },
  {
   "cell_type": "code",
   "execution_count": 11,
   "metadata": {},
   "outputs": [],
   "source": [
    "def get_data(input_image = None ,input_label = None, input_probability_map= None, Padding = 'NONE', Size = None ,Sample = False, Stride = 1, Depth_Stride = 1 ):\n",
    "\t\"\"\"\n",
    "\tThis function is the preprocess of the input image,\n",
    "\tit will return 4 np.array: FOV, Cropped Original Image, Cropped label and Full-sized Original Image\n",
    "\n",
    "\tinput_path : path of the folder of the input training image, from parser\n",
    "\tPadding : The model of paading used here, from parser\n",
    "\tSize : The size of Field Of View(FOV), from config\n",
    "\n",
    "\tSample : Using sample mode or not, from config\n",
    "\tStride : Stride on Height and Width, from config\n",
    "\tDepth_Stride : Stride on Depth, from config\n",
    "\t\"\"\"\n",
    "\n",
    "\tif Sample == True:\n",
    "\t\traise ValueError(\"Sample mode has not been implemented\")\n",
    "\tif Size == None or len(Size) != 3:\n",
    "\t\traise ValueError(\"Please specify the size of FOV, it must be in the format of [x,y,z]\")\n",
    "\n",
    "\t# prefilepath = r'C:\\Users\\sunzh\\CS636\\Summer project\\BPN\\data\\train-input-split\\train-input-'\n",
    "\n",
    "\t## Read the image, label and probability map\n",
    "\tImage = tiff.imread(input_image)\n",
    "\tLabel = tiff.imread(input_label)\n",
    "\tPromap = tiff.imread(input_probability_map)\n",
    "\tImage = np.transpose(Image, (2,0,1)).astype('int8')\n",
    "\tLabel = np.transpose(Label, (2,0,1)).astype('int8')\n",
    "\tPromap = np.transpose(Promap, (2,0,1)).astype('int8')\n",
    "\n",
    "\tprint(\"Images are read now\")\n",
    "\n",
    "\tif Image.shape != Label.shape or Image.shape != Promap.shape or Label.shape != Promap.shape:\n",
    "\t\traise ValueError(\"ValueError: Image, Promap and Label should have the same size with each other\")\n",
    "\n",
    "\n",
    "\tr_xy = int((Size[0]-1)/2)\n",
    "\tr_z = int((Size[2]-1) /2)\n",
    "\tif Padding == 'NONE':\n",
    "\t\tStart_xy = int((Size[0]-1)/2)\n",
    "\t\tEnd_xy = int(Image.shape[0] - (Size[0]-1)/2)\n",
    "\t\tStart_z = int((Size[2]-1)/2)\n",
    "\t\tEnd_z = int(Image.shape[2] - (Size[2]-1)/2)\n",
    "\n",
    "\t\tFOV = np.zeros((End_xy - Start_xy +1, End_xy - Start_xy+1, End_z - Start_z +1, Size[0], Size[1], Size[2])).astype('int8')\n",
    "\t\tFOV_label = np.zeros((End_xy - Start_xy +1, End_xy - Start_xy+1, End_z - Start_z +1, Size[0], Size[1], Size[2])).astype('int8')\n",
    "\t\tFOV_Im  = np.zeros((End_xy - Start_xy +1, End_xy - Start_xy+1, End_z - Start_z +1, Size[0], Size[1], Size[2])).astype('int8')\n",
    "\n",
    "\t\tfor i in range(Start_xy, End_xy):\n",
    "\t\t\tfor j in range(Start_z, End_xy):\n",
    "\t\t\t\tFOV[i-Start_xy,i-Start_z,j-Start_z,:,:,:] = Promap[i-Start_xy:i-Start_xy+Size[0], i-Start_xy:i-Start_xy+Size[1], j-Start_z:j-Start_z+Size[2] ]\n",
    "\t\t\t\tFOV_label[i-Start_xy,i-Start_z,j-Start_z,:,:,:] = Label[i-Start_xy:i-Start_xy+Size[0], i-Start_xy:i-Start_xy+Size[1], j-Start_z:j-Start_z+Size[2] ]\n",
    "\t\t\t\tFOV_Im[i-Start_xy,i-Start_z,j-Start_z,:,:,:] = Image[i-Start_xy:i-Start_xy+Size[0], i-Start_xy:i-Start_xy+Size[1], j-Start_z:j-Start_z+Size[2] ]\n",
    "\n",
    "\t\treturn FOV, FOV_label, FOV_Im, Image\n",
    "\telif Padding == 'SAME':\n",
    "\t\tFOV = np.zeros((Promap.shape[0],Promap.shape[1],Promap.shape[2], Size[0], Size[1], Size[2])).astype('int8')\n",
    "\t\tFOV_label = np.zeros((Label.shape[0],Label.shape[1],Label.shape[2], Size[0], Size[1], Size[2])).astype('int8')\n",
    "\t\tFOV_Im  =  np.zeros((Image.shape[0],Image.shape[1],Image.shape[2], Size[0], Size[1], Size[2])).astype('int8')\n",
    "\n",
    "\t\tfor i in range(0,Image.shape[0]):\n",
    "\t\t\tfor j in range(0, Image.shape[2]):\n",
    "\t\t\t\tStart_xy = int(max(0, i- r_xy))\n",
    "\t\t\t\tEnd_xy = int(min(i+r_xy+1,Promap.shape[1]))\n",
    "\t\t\t\tStart_z = int(max(0,j-r_z))\n",
    "\t\t\t\tEnd_z = int(min(j+r_z+1,Promap.shape[2]))\n",
    "\n",
    "\t\t\t\tFOV[i, i, j, r_xy-(i-Start_xy):r_xy+(End_xy-i),r_xy-(i-Start_xy):r_xy+(End_xy-i), r_z-(i-Start_z):r_z+(End_z-i)] = Promap[Start_xy:End_xy, Start_xy:End_xy, Start_z:End_z]\n",
    "\t\t\t\tFOV_label[i, i, j, r_xy-(i-Start_xy):r_xy+(End_xy-i),r_xy-(i-Start_xy):r_xy+(End_xy-i), r_z-(i-Start_z):r_z+(End_z-i)] = Label[Start_xy:End_xy, Start_xy:End_xy, Start_z:End_z]\n",
    "\t\t\t\tFOV_Im[i, i, j, r_xy-(i-Start_xy):r_xy+(End_xy-i),r_xy-(i-Start_xy):r_xy+(End_xy-i), r_z-(i-Start_z):r_z+(End_z-i)] = Image[Start_xy:End_xy, Start_xy:End_xy, Start_z:End_z]\n",
    "\n",
    "\t\treturn FOV, FOV_label, FOV_Im, Image\n",
    "\telse:\n",
    "\t\traise ValueError(\"Padding only support SAME and NONE now\")"
   ]
  },
  {
   "cell_type": "code",
   "execution_count": 3,
   "metadata": {},
   "outputs": [
    {
     "name": "stdout",
     "output_type": "stream",
     "text": [
      "Images are read now\n"
     ]
    },
    {
     "ename": "MemoryError",
     "evalue": "",
     "output_type": "error",
     "traceback": [
      "\u001b[1;31m---------------------------------------------------------------------------\u001b[0m",
      "\u001b[1;31mMemoryError\u001b[0m                               Traceback (most recent call last)",
      "\u001b[1;32m<ipython-input-3-151c49aafedf>\u001b[0m in \u001b[0;36m<module>\u001b[1;34m\u001b[0m\n\u001b[0;32m     42\u001b[0m     \u001b[0mEnd_z\u001b[0m \u001b[1;33m=\u001b[0m \u001b[0mint\u001b[0m\u001b[1;33m(\u001b[0m\u001b[0mImage\u001b[0m\u001b[1;33m.\u001b[0m\u001b[0mshape\u001b[0m\u001b[1;33m[\u001b[0m\u001b[1;36m2\u001b[0m\u001b[1;33m]\u001b[0m \u001b[1;33m-\u001b[0m \u001b[1;33m(\u001b[0m\u001b[0mSize\u001b[0m\u001b[1;33m[\u001b[0m\u001b[1;36m2\u001b[0m\u001b[1;33m]\u001b[0m\u001b[1;33m-\u001b[0m\u001b[1;36m1\u001b[0m\u001b[1;33m)\u001b[0m\u001b[1;33m/\u001b[0m\u001b[1;36m2\u001b[0m\u001b[1;33m)\u001b[0m\u001b[1;33m\u001b[0m\u001b[1;33m\u001b[0m\u001b[0m\n\u001b[0;32m     43\u001b[0m \u001b[1;33m\u001b[0m\u001b[0m\n\u001b[1;32m---> 44\u001b[1;33m     \u001b[0mFOV\u001b[0m \u001b[1;33m=\u001b[0m \u001b[0mnp\u001b[0m\u001b[1;33m.\u001b[0m\u001b[0mzeros\u001b[0m\u001b[1;33m(\u001b[0m\u001b[1;33m(\u001b[0m\u001b[0mEnd_xy\u001b[0m \u001b[1;33m-\u001b[0m \u001b[0mStart_xy\u001b[0m \u001b[1;33m+\u001b[0m\u001b[1;36m1\u001b[0m\u001b[1;33m,\u001b[0m \u001b[0mEnd_xy\u001b[0m \u001b[1;33m-\u001b[0m \u001b[0mStart_xy\u001b[0m\u001b[1;33m+\u001b[0m\u001b[1;36m1\u001b[0m\u001b[1;33m,\u001b[0m \u001b[0mEnd_z\u001b[0m \u001b[1;33m-\u001b[0m \u001b[0mStart_z\u001b[0m \u001b[1;33m+\u001b[0m\u001b[1;36m1\u001b[0m\u001b[1;33m,\u001b[0m \u001b[0mSize\u001b[0m\u001b[1;33m[\u001b[0m\u001b[1;36m0\u001b[0m\u001b[1;33m]\u001b[0m\u001b[1;33m,\u001b[0m \u001b[0mSize\u001b[0m\u001b[1;33m[\u001b[0m\u001b[1;36m1\u001b[0m\u001b[1;33m]\u001b[0m\u001b[1;33m,\u001b[0m \u001b[0mSize\u001b[0m\u001b[1;33m[\u001b[0m\u001b[1;36m2\u001b[0m\u001b[1;33m]\u001b[0m\u001b[1;33m)\u001b[0m\u001b[1;33m)\u001b[0m\u001b[1;33m.\u001b[0m\u001b[0mastype\u001b[0m\u001b[1;33m(\u001b[0m\u001b[1;34m'int8'\u001b[0m\u001b[1;33m)\u001b[0m\u001b[1;33m\u001b[0m\u001b[1;33m\u001b[0m\u001b[0m\n\u001b[0m\u001b[0;32m     45\u001b[0m     \u001b[0mFOV_label\u001b[0m \u001b[1;33m=\u001b[0m \u001b[0mnp\u001b[0m\u001b[1;33m.\u001b[0m\u001b[0mzeros\u001b[0m\u001b[1;33m(\u001b[0m\u001b[1;33m(\u001b[0m\u001b[0mEnd_xy\u001b[0m \u001b[1;33m-\u001b[0m \u001b[0mStart_xy\u001b[0m \u001b[1;33m+\u001b[0m\u001b[1;36m1\u001b[0m\u001b[1;33m,\u001b[0m \u001b[0mEnd_xy\u001b[0m \u001b[1;33m-\u001b[0m \u001b[0mStart_xy\u001b[0m\u001b[1;33m+\u001b[0m\u001b[1;36m1\u001b[0m\u001b[1;33m,\u001b[0m \u001b[0mEnd_z\u001b[0m \u001b[1;33m-\u001b[0m \u001b[0mStart_z\u001b[0m \u001b[1;33m+\u001b[0m\u001b[1;36m1\u001b[0m\u001b[1;33m,\u001b[0m \u001b[0mSize\u001b[0m\u001b[1;33m[\u001b[0m\u001b[1;36m0\u001b[0m\u001b[1;33m]\u001b[0m\u001b[1;33m,\u001b[0m \u001b[0mSize\u001b[0m\u001b[1;33m[\u001b[0m\u001b[1;36m1\u001b[0m\u001b[1;33m]\u001b[0m\u001b[1;33m,\u001b[0m \u001b[0mSize\u001b[0m\u001b[1;33m[\u001b[0m\u001b[1;36m2\u001b[0m\u001b[1;33m]\u001b[0m\u001b[1;33m)\u001b[0m\u001b[1;33m)\u001b[0m\u001b[1;33m.\u001b[0m\u001b[0mastype\u001b[0m\u001b[1;33m(\u001b[0m\u001b[1;34m'int8'\u001b[0m\u001b[1;33m)\u001b[0m\u001b[1;33m\u001b[0m\u001b[1;33m\u001b[0m\u001b[0m\n\u001b[0;32m     46\u001b[0m     \u001b[0mFOV_Im\u001b[0m  \u001b[1;33m=\u001b[0m \u001b[0mnp\u001b[0m\u001b[1;33m.\u001b[0m\u001b[0mzeros\u001b[0m\u001b[1;33m(\u001b[0m\u001b[1;33m(\u001b[0m\u001b[0mEnd_xy\u001b[0m \u001b[1;33m-\u001b[0m \u001b[0mStart_xy\u001b[0m \u001b[1;33m+\u001b[0m\u001b[1;36m1\u001b[0m\u001b[1;33m,\u001b[0m \u001b[0mEnd_xy\u001b[0m \u001b[1;33m-\u001b[0m \u001b[0mStart_xy\u001b[0m\u001b[1;33m+\u001b[0m\u001b[1;36m1\u001b[0m\u001b[1;33m,\u001b[0m \u001b[0mEnd_z\u001b[0m \u001b[1;33m-\u001b[0m \u001b[0mStart_z\u001b[0m \u001b[1;33m+\u001b[0m\u001b[1;36m1\u001b[0m\u001b[1;33m,\u001b[0m \u001b[0mSize\u001b[0m\u001b[1;33m[\u001b[0m\u001b[1;36m0\u001b[0m\u001b[1;33m]\u001b[0m\u001b[1;33m,\u001b[0m \u001b[0mSize\u001b[0m\u001b[1;33m[\u001b[0m\u001b[1;36m1\u001b[0m\u001b[1;33m]\u001b[0m\u001b[1;33m,\u001b[0m \u001b[0mSize\u001b[0m\u001b[1;33m[\u001b[0m\u001b[1;36m2\u001b[0m\u001b[1;33m]\u001b[0m\u001b[1;33m)\u001b[0m\u001b[1;33m)\u001b[0m\u001b[1;33m.\u001b[0m\u001b[0mastype\u001b[0m\u001b[1;33m(\u001b[0m\u001b[1;34m'int8'\u001b[0m\u001b[1;33m)\u001b[0m\u001b[1;33m\u001b[0m\u001b[1;33m\u001b[0m\u001b[0m\n",
      "\u001b[1;31mMemoryError\u001b[0m: "
     ]
    }
   ],
   "source": [
    "\n",
    "input_image = r'C:\\Users\\sunzh\\CS636\\Summer project\\BPN\\data\\train-input\\train-input.tif' \n",
    "input_label = r'C:\\Users\\sunzh\\CS636\\Summer project\\BPN\\data\\train-labels\\train-labels.tif'\n",
    "input_probability_map= r'C:\\Users\\sunzh\\CS636\\Summer project\\BPN\\data\\train-labels\\train-labels.tif'\n",
    "Padding = 'NONE'\n",
    "Size = [15,15,7]\n",
    "Sample = False\n",
    "Stride = 1\n",
    "Depth_Stride = 1 \n",
    "\n",
    "\n",
    "\n",
    "\n",
    "\n",
    "if Sample == True:\n",
    "    raise ValueError(\"Sample mode has not been implemented\")\n",
    "if Size == None or len(Size) != 3:\n",
    "    raise ValueError(\"Please specify the size of FOV, it must be in the format of [x,y,z]\")\n",
    "\n",
    "# prefilepath = r'C:\\Users\\sunzh\\CS636\\Summer project\\BPN\\data\\train-input-split\\train-input-'\n",
    "\n",
    "## Read the image, label and probability map\n",
    "Image = tiff.imread(input_image)\n",
    "Label = tiff.imread(input_label)\n",
    "Promap = tiff.imread(input_probability_map)\n",
    "Image = np.transpose(Image, (2,0,1)).astype('int8')\n",
    "Label = np.transpose(Label, (2,0,1)).astype('int8')\n",
    "Promap = np.transpose(Promap, (2,0,1)).astype('int8')\n",
    "\n",
    "print(\"Images are read now\")\n",
    "\n",
    "if Image.shape != Label.shape or Image.shape != Promap.shape or Label.shape != Promap.shape:\n",
    "    raise ValueError(\"ValueError: Image, Promap and Label should have the same size with each other\")\n",
    "\n",
    "\n",
    "r_xy = int((Size[0]-1)/2)\n",
    "r_z = int((Size[2]-1) /2)\n",
    "if Padding == 'NONE':\n",
    "    Start_xy = int((Size[0]-1)/2)\n",
    "    End_xy = int(Image.shape[0] - (Size[0]-1)/2)\n",
    "    Start_z = int((Size[2]-1)/2)\n",
    "    End_z = int(Image.shape[2] - (Size[2]-1)/2)\n",
    "\n",
    "    FOV = np.zeros((End_xy - Start_xy +1, End_xy - Start_xy+1, End_z - Start_z +1, Size[0], Size[1], Size[2])).astype('int8')\n",
    "    FOV_label = np.zeros((End_xy - Start_xy +1, End_xy - Start_xy+1, End_z - Start_z +1, Size[0], Size[1], Size[2])).astype('int8')\n",
    "    FOV_Im  = np.zeros((End_xy - Start_xy +1, End_xy - Start_xy+1, End_z - Start_z +1, Size[0], Size[1], Size[2])).astype('int8')\n",
    "\n",
    "    for i in range(Start_xy, End_xy):\n",
    "        for j in range(Start_z, End_xy):\n",
    "            FOV[i-Start_xy,i-Start_z,j-Start_z,:,:,:] = Promap[i-Start_xy:i-Start_xy+Size[0], i-Start_xy:i-Start_xy+Size[1], j-Start_z:j-Start_z+Size[2] ]\n",
    "            FOV_label[i-Start_xy,i-Start_z,j-Start_z,:,:,:] = Label[i-Start_xy:i-Start_xy+Size[0], i-Start_xy:i-Start_xy+Size[1], j-Start_z:j-Start_z+Size[2] ]\n",
    "            FOV_Im[i-Start_xy,i-Start_z,j-Start_z,:,:,:] = Image[i-Start_xy:i-Start_xy+Size[0], i-Start_xy:i-Start_xy+Size[1], j-Start_z:j-Start_z+Size[2] ]\n",
    "\n",
    "#     return FOV, FOV_label, FOV_Im, Image\n",
    "elif Padding == 'SAME':\n",
    "    FOV = np.zeros((Promap.shape[0],Promap.shape[1],Promap.shape[2], Size[0], Size[1], Size[2])).astype('int8')\n",
    "    FOV_label = np.zeros((Label.shape[0],Label.shape[1],Label.shape[2], Size[0], Size[1], Size[2])).astype('int8')\n",
    "    FOV_Im  =  np.zeros((Image.shape[0],Image.shape[1],Image.shape[2], Size[0], Size[1], Size[2])).astype('int8')\n",
    "\n",
    "    for i in range(0,Image.shape[0]):\n",
    "        for j in range(0, Image.shape[2]):\n",
    "            Start_xy = int(max(0, i- r_xy))\n",
    "            End_xy = int(min(i+r_xy+1,Promap.shape[1]))\n",
    "            Start_z = int(max(0,j-r_z))\n",
    "            End_z = int(min(j+r_z+1,Promap.shape[2]))\n",
    "\n",
    "            FOV[i, i, j, r_xy-(i-Start_xy):r_xy+(End_xy-i),r_xy-(i-Start_xy):r_xy+(End_xy-i), r_z-(i-Start_z):r_z+(End_z-i)] = Promap[Start_xy:End_xy, Start_xy:End_xy, Start_z:End_z]\n",
    "            FOV_label[i, i, j, r_xy-(i-Start_xy):r_xy+(End_xy-i),r_xy-(i-Start_xy):r_xy+(End_xy-i), r_z-(i-Start_z):r_z+(End_z-i)] = Label[Start_xy:End_xy, Start_xy:End_xy, Start_z:End_z]\n",
    "            FOV_Im[i, i, j, r_xy-(i-Start_xy):r_xy+(End_xy-i),r_xy-(i-Start_xy):r_xy+(End_xy-i), r_z-(i-Start_z):r_z+(End_z-i)] = Image[Start_xy:End_xy, Start_xy:End_xy, Start_z:End_z]\n",
    "\n",
    "#     return FOV, FOV_label, FOV_Im, Image\n",
    "else:\n",
    "    raise ValueError(\"Padding only support SAME and NONE now\")"
   ]
  },
  {
   "cell_type": "code",
   "execution_count": 6,
   "metadata": {},
   "outputs": [
    {
     "ename": "ModuleNotFoundError",
     "evalue": "No module named 'tensorflow.keras.preprocessing.image.DirectoryIterator'",
     "output_type": "error",
     "traceback": [
      "\u001b[1;31m---------------------------------------------------------------------------\u001b[0m",
      "\u001b[1;31mModuleNotFoundError\u001b[0m                       Traceback (most recent call last)",
      "\u001b[1;32m<ipython-input-6-5549da8165cc>\u001b[0m in \u001b[0;36m<module>\u001b[1;34m\u001b[0m\n\u001b[1;32m----> 1\u001b[1;33m \u001b[1;32mimport\u001b[0m \u001b[0mtensorflow\u001b[0m\u001b[1;33m.\u001b[0m\u001b[0mkeras\u001b[0m\u001b[1;33m.\u001b[0m\u001b[0mpreprocessing\u001b[0m\u001b[1;33m.\u001b[0m\u001b[0mimage\u001b[0m\u001b[1;33m.\u001b[0m\u001b[0mDirectoryIterator\u001b[0m\u001b[1;33m\u001b[0m\u001b[1;33m\u001b[0m\u001b[0m\n\u001b[0m",
      "\u001b[1;31mModuleNotFoundError\u001b[0m: No module named 'tensorflow.keras.preprocessing.image.DirectoryIterator'"
     ]
    }
   ],
   "source": [
    "import tensorflow.keras.preprocessing.image."
   ]
  },
  {
   "cell_type": "code",
   "execution_count": null,
   "metadata": {},
   "outputs": [],
   "source": []
  }
 ],
 "metadata": {
  "kernelspec": {
   "display_name": "Python 3",
   "language": "python",
   "name": "python3"
  },
  "language_info": {
   "codemirror_mode": {
    "name": "ipython",
    "version": 3
   },
   "file_extension": ".py",
   "mimetype": "text/x-python",
   "name": "python",
   "nbconvert_exporter": "python",
   "pygments_lexer": "ipython3",
   "version": "3.6.8"
  }
 },
 "nbformat": 4,
 "nbformat_minor": 2
}
