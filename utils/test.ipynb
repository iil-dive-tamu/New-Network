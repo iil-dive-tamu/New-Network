{
 "cells": [
  {
   "cell_type": "code",
   "execution_count": 1,
   "metadata": {},
   "outputs": [],
   "source": [
    "from PIL import Image\n",
    "import numpy as np\n",
    "import os, sys\n",
    "import numpy as np\n",
    "import tifffile as tiff\n",
    "# from tensorflow.keras.preprocessing.image import ImageDataGenerator\n",
    "import itertools"
   ]
  },
  {
   "cell_type": "code",
   "execution_count": 4,
   "metadata": {},
   "outputs": [
    {
     "name": "stdout",
     "output_type": "stream",
     "text": [
      "[[22. 28.]\n",
      " [49. 64.]]\n"
     ]
    }
   ],
   "source": [
    "\n",
    "import numpy\n",
    "import tensorflow as tf\n",
    "a = tf.constant([1.0, 2.0, 3.0, 4.0, 5.0, 6.0], shape=[2, 3], name='a')\n",
    "b = tf.constant([1.0, 2.0, 3.0, 4.0, 5.0, 6.0], shape=[3, 2], name='b')\n",
    "c = tf.matmul(a, b)\n",
    "sess = tf.Session(config=tf.ConfigProto(log_device_placement=True))\n",
    "print(sess.run(c))\n"
   ]
  },
  {
   "cell_type": "code",
   "execution_count": 2,
   "metadata": {},
   "outputs": [],
   "source": [
    "Fov = tiff.imread(r'C:\\Users\\sunzh\\CS636\\Summer project\\BPN\\data\\FOV\\FOV_%d%d%d_%d_%d.tif'%(16,16,8,0,0) )"
   ]
  },
  {
   "cell_type": "code",
   "execution_count": 1,
   "metadata": {},
   "outputs": [
    {
     "ename": "NameError",
     "evalue": "name 'tiff' is not defined",
     "output_type": "error",
     "traceback": [
      "\u001b[1;31m---------------------------------------------------------------------------\u001b[0m",
      "\u001b[1;31mNameError\u001b[0m                                 Traceback (most recent call last)",
      "\u001b[1;32m<ipython-input-1-ad487e1133ab>\u001b[0m in \u001b[0;36m<module>\u001b[1;34m\u001b[0m\n\u001b[1;32m----> 1\u001b[1;33m \u001b[0ma\u001b[0m \u001b[1;33m=\u001b[0m \u001b[0mtiff\u001b[0m\u001b[1;33m.\u001b[0m\u001b[0mimread\u001b[0m\u001b[1;33m(\u001b[0m\u001b[1;34mr'C:\\Users\\sunzh\\CS636\\Summer project\\BPN\\utils\\test\\test_data\\FOV\\FOV_110_0_0.tif'\u001b[0m\u001b[1;33m)\u001b[0m\u001b[1;33m\u001b[0m\u001b[1;33m\u001b[0m\u001b[0m\n\u001b[0m\u001b[0;32m      2\u001b[0m \u001b[0mb\u001b[0m \u001b[1;33m=\u001b[0m \u001b[0mtiff\u001b[0m\u001b[1;33m.\u001b[0m\u001b[0mimread\u001b[0m\u001b[1;33m(\u001b[0m\u001b[1;34mr'C:\\Users\\sunzh\\CS636\\Summer project\\BPN\\utils\\test\\test_data\\a.tif'\u001b[0m\u001b[1;33m)\u001b[0m\u001b[1;33m\u001b[0m\u001b[1;33m\u001b[0m\u001b[0m\n\u001b[0;32m      3\u001b[0m \u001b[0mb\u001b[0m\u001b[1;33m\u001b[0m\u001b[1;33m\u001b[0m\u001b[0m\n",
      "\u001b[1;31mNameError\u001b[0m: name 'tiff' is not defined"
     ]
    }
   ],
   "source": [
    "a = tiff.imread(r'C:\\Users\\sunzh\\CS636\\Summer project\\BPN\\utils\\test\\test_data\\FOV\\FOV_110_0_0.tif')\n",
    "b = tiff.imread(r'C:\\Users\\sunzh\\CS636\\Summer project\\BPN\\utils\\test\\test_data\\a.tif')\n",
    "b"
   ]
  },
  {
   "cell_type": "code",
   "execution_count": 6,
   "metadata": {},
   "outputs": [
    {
     "data": {
      "text/plain": [
       "array([[[1, 1, 1, ..., 1, 1, 1],\n",
       "        [1, 1, 1, ..., 1, 1, 1],\n",
       "        [1, 1, 1, ..., 1, 1, 1],\n",
       "        ...,\n",
       "        [1, 1, 1, ..., 0, 0, 0],\n",
       "        [1, 1, 1, ..., 0, 0, 0],\n",
       "        [1, 1, 1, ..., 0, 0, 0]],\n",
       "\n",
       "       [[1, 1, 1, ..., 1, 1, 1],\n",
       "        [1, 1, 1, ..., 1, 1, 1],\n",
       "        [1, 1, 1, ..., 1, 1, 1],\n",
       "        ...,\n",
       "        [1, 1, 1, ..., 0, 0, 0],\n",
       "        [1, 1, 1, ..., 0, 0, 0],\n",
       "        [1, 1, 1, ..., 0, 0, 0]],\n",
       "\n",
       "       [[1, 1, 1, ..., 1, 1, 1],\n",
       "        [1, 1, 1, ..., 1, 1, 1],\n",
       "        [1, 1, 1, ..., 1, 1, 1],\n",
       "        ...,\n",
       "        [1, 1, 1, ..., 0, 0, 0],\n",
       "        [1, 1, 1, ..., 0, 0, 0],\n",
       "        [1, 1, 1, ..., 0, 0, 0]],\n",
       "\n",
       "       ...,\n",
       "\n",
       "       [[0, 0, 0, ..., 0, 0, 0],\n",
       "        [0, 0, 0, ..., 0, 0, 0],\n",
       "        [0, 0, 0, ..., 0, 0, 0],\n",
       "        ...,\n",
       "        [1, 1, 1, ..., 1, 1, 1],\n",
       "        [1, 1, 1, ..., 1, 1, 1],\n",
       "        [1, 1, 1, ..., 1, 1, 1]],\n",
       "\n",
       "       [[0, 0, 0, ..., 0, 0, 0],\n",
       "        [0, 0, 0, ..., 0, 0, 0],\n",
       "        [0, 0, 0, ..., 0, 0, 0],\n",
       "        ...,\n",
       "        [1, 1, 1, ..., 1, 1, 1],\n",
       "        [1, 1, 1, ..., 1, 1, 1],\n",
       "        [1, 1, 1, ..., 1, 1, 1]],\n",
       "\n",
       "       [[0, 0, 0, ..., 0, 0, 0],\n",
       "        [0, 0, 0, ..., 0, 0, 0],\n",
       "        [0, 0, 0, ..., 0, 0, 0],\n",
       "        ...,\n",
       "        [1, 1, 1, ..., 1, 1, 1],\n",
       "        [1, 1, 1, ..., 1, 1, 1],\n",
       "        [1, 1, 1, ..., 1, 1, 1]]])"
      ]
     },
     "execution_count": 6,
     "metadata": {},
     "output_type": "execute_result"
    }
   ],
   "source": [
    "c = tiff.imread(r'C:\\Users\\sunzh\\CS636\\Summer project\\BPN\\data\\train-labels\\train-labels.tif')\n",
    "c = label_making(c)\n",
    "c"
   ]
  },
  {
   "cell_type": "code",
   "execution_count": 9,
   "metadata": {},
   "outputs": [
    {
     "data": {
      "text/plain": [
       "array([[[0.98930171, 0.99288936, 0.8358632 , ..., 0.99563385,\n",
       "         0.87286412, 0.92018191],\n",
       "        [0.95866449, 0.9607663 , 0.96579165, ..., 0.87275345,\n",
       "         0.81942876, 0.83982429],\n",
       "        [0.847535  , 0.93802266, 0.92760025, ..., 0.94230789,\n",
       "         0.85508934, 0.86439194],\n",
       "        ...,\n",
       "        [0.84293254, 0.98445898, 0.9587406 , ..., 0.08759653,\n",
       "         0.00785694, 0.16873157],\n",
       "        [0.96582899, 0.88448381, 0.95749642, ..., 0.11418429,\n",
       "         0.04104541, 0.05801   ],\n",
       "        [0.98812111, 0.83605232, 0.90739667, ..., 0.15849637,\n",
       "         0.07512413, 0.07158115]],\n",
       "\n",
       "       [[0.83492385, 0.89106664, 0.86237117, ..., 0.81325375,\n",
       "         0.82542692, 0.85562757],\n",
       "        [0.88643941, 0.80525436, 0.95939146, ..., 0.96469719,\n",
       "         0.99360964, 0.86545547],\n",
       "        [0.86822436, 0.87265107, 0.86184372, ..., 0.93204425,\n",
       "         0.84403967, 0.94042921],\n",
       "        ...,\n",
       "        [0.8586503 , 0.82292381, 0.83921602, ..., 0.04864051,\n",
       "         0.10533689, 0.09640778],\n",
       "        [0.85425708, 0.86098331, 0.94722549, ..., 0.16847247,\n",
       "         0.15661497, 0.10341942],\n",
       "        [0.80215223, 0.84070026, 0.81151308, ..., 0.07109587,\n",
       "         0.13271417, 0.0612979 ]],\n",
       "\n",
       "       [[0.90584422, 0.9537628 , 0.87929753, ..., 0.81001816,\n",
       "         0.84400291, 0.80410568],\n",
       "        [0.9083001 , 0.90992711, 0.82828996, ..., 0.92471642,\n",
       "         0.8241717 , 0.84348748],\n",
       "        [0.85613879, 0.89539165, 0.98633723, ..., 0.87609648,\n",
       "         0.81960166, 0.83283266],\n",
       "        ...,\n",
       "        [0.81345644, 0.95053413, 0.82295514, ..., 0.02707644,\n",
       "         0.02853305, 0.01570544],\n",
       "        [0.81486241, 0.92171143, 0.90703504, ..., 0.11266145,\n",
       "         0.11064924, 0.07326764],\n",
       "        [0.85281806, 0.95726489, 0.9438861 , ..., 0.17239591,\n",
       "         0.04803727, 0.09438713]],\n",
       "\n",
       "       ...,\n",
       "\n",
       "       [[0.0890198 , 0.11927455, 0.10246955, ..., 0.16435894,\n",
       "         0.03744427, 0.14496787],\n",
       "        [0.18602329, 0.12454139, 0.12328003, ..., 0.05346691,\n",
       "         0.04151261, 0.18963311],\n",
       "        [0.09523326, 0.01340143, 0.07124725, ..., 0.1407554 ,\n",
       "         0.05034229, 0.08975731],\n",
       "        ...,\n",
       "        [0.88606647, 0.9265736 , 0.87596255, ..., 0.91525504,\n",
       "         0.94248148, 0.84268767],\n",
       "        [0.99895357, 0.98658663, 0.820355  , ..., 0.97630384,\n",
       "         0.80986438, 0.99616397],\n",
       "        [0.87362587, 0.90858064, 0.81526684, ..., 0.97803786,\n",
       "         0.91298325, 0.95773443]],\n",
       "\n",
       "       [[0.15049805, 0.17914805, 0.15774004, ..., 0.07899089,\n",
       "         0.01542258, 0.04036935],\n",
       "        [0.03454601, 0.04846376, 0.01322787, ..., 0.06745227,\n",
       "         0.09776899, 0.12744275],\n",
       "        [0.1760508 , 0.11489118, 0.08668404, ..., 0.16475567,\n",
       "         0.00455796, 0.08474596],\n",
       "        ...,\n",
       "        [0.91673582, 0.90233194, 0.88240438, ..., 0.89310006,\n",
       "         0.96083494, 0.92490503],\n",
       "        [0.89848023, 0.99676392, 0.96751642, ..., 0.84054565,\n",
       "         0.88720447, 0.8822096 ],\n",
       "        [0.9102854 , 0.97470326, 0.89071649, ..., 0.87452272,\n",
       "         0.87763385, 0.85709441]],\n",
       "\n",
       "       [[0.19167433, 0.07940229, 0.10533021, ..., 0.07880753,\n",
       "         0.05412705, 0.18077769],\n",
       "        [0.08120114, 0.00823698, 0.18347066, ..., 0.07306342,\n",
       "         0.10248503, 0.19485235],\n",
       "        [0.0807193 , 0.1681542 , 0.06833923, ..., 0.03452222,\n",
       "         0.18686269, 0.06632998],\n",
       "        ...,\n",
       "        [0.85524925, 0.80446549, 0.95927965, ..., 0.96964043,\n",
       "         0.99005807, 0.97970552],\n",
       "        [0.97058062, 0.94995975, 0.82709751, ..., 0.86984993,\n",
       "         0.81807382, 0.90191721],\n",
       "        [0.86181556, 0.97255728, 0.87873636, ..., 0.88559398,\n",
       "         0.9453224 , 0.88367526]]])"
      ]
     },
     "execution_count": 9,
     "metadata": {},
     "output_type": "execute_result"
    }
   ],
   "source": [
    "b = random(c)\n",
    "b"
   ]
  },
  {
   "cell_type": "code",
   "execution_count": 3,
   "metadata": {},
   "outputs": [
    {
     "data": {
      "text/plain": [
       "(33, 33, 17)"
      ]
     },
     "execution_count": 3,
     "metadata": {},
     "output_type": "execute_result"
    }
   ],
   "source": [
    "b = np.zeros((1,33,33,17,1))\n",
    "c = np.squeeze(b)\n",
    "c.shape"
   ]
  },
  {
   "cell_type": "code",
   "execution_count": 12,
   "metadata": {},
   "outputs": [
    {
     "data": {
      "text/plain": [
       "(100, 1024, 1024)"
      ]
     },
     "execution_count": 12,
     "metadata": {},
     "output_type": "execute_result"
    }
   ],
   "source": [
    "d = tiff.imread(r'C:\\Users\\sunzh\\CS636\\Summer project\\BPN\\data\\train-input\\train-promap.tif')\n",
    "d.shape"
   ]
  },
  {
   "cell_type": "code",
   "execution_count": 2,
   "metadata": {},
   "outputs": [],
   "source": [
    "\tdef LLR( Promap):\n",
    "\t\t\"\"\"\n",
    "\t\tApply Log-LogistRatio transformation\n",
    "\t\t:param Label: The input lable\n",
    "\t\t:return: The input lable with LLR value\n",
    "\t\t\"\"\"\n",
    "\t\tL = Promap.astype('float64')\n",
    "\t\tepsilon = 0.00001\n",
    "\t\tPromap = np.log2(L/((1-L)+epsilon))\n",
    "\t\treturn Promap\n"
   ]
  },
  {
   "cell_type": "code",
   "execution_count": 4,
   "metadata": {},
   "outputs": [],
   "source": [
    "\tdef label_making( image):\n",
    "\t\t\"\"\"\n",
    "\t\tThe original label has different num for different patch of cell, but we want 0-1 label\n",
    "\t\t:param image: only input label\n",
    "\t\t:return: 0-1 label\n",
    "\t\t\"\"\"\n",
    "\t\treturn np.where(image>0, 1, 0)"
   ]
  },
  {
   "cell_type": "code",
   "execution_count": 8,
   "metadata": {},
   "outputs": [],
   "source": [
    "def random(image):\n",
    "    \"\"\"\n",
    "    The original label has different num for different patch of cell, but we want 0-1 label\n",
    "    :param image: only input label\n",
    "    :return: 0-1 label\n",
    "    \"\"\"\n",
    "    image1 = image.astype('float64')\n",
    "    for x in range(image.shape[0]):\n",
    "        for y in range(image.shape[1]):\n",
    "            for z in range(image.shape[2]):\n",
    "\n",
    "                a = (np.random.rand(1)/5)[0]\n",
    "                if image[x,y,z] == 1:\n",
    "                    image1[x,y,z] -= a\n",
    "                else:\n",
    "                    image1[x,y,z] += a\n",
    "\n",
    "    return image1\n",
    "#         return np.where(image>0, 1-(np.random.rand(1)/5)[0], 0+(np.random.rand(1)/5)[0])"
   ]
  },
  {
   "cell_type": "code",
   "execution_count": 3,
   "metadata": {},
   "outputs": [
    {
     "name": "stdout",
     "output_type": "stream",
     "text": [
      "(1, 33, 33, 17, 1)\n",
      "(33, 33, 17)\n"
     ]
    }
   ],
   "source": [
    "imagepath1 = r'C:\\Users\\sunzh\\CS636\\Summer project\\BPN\\data\\FOV\\FOV_16168_0_0.tif'\n",
    "imagepath2 = r'C:\\Users\\sunzh\\CS636\\Summer project\\BPN\\data\\IMAGE\\IMAGE_16168.tif'\n",
    "Image1 = tiff.imread(imagepath1)\n",
    "Image2 = tiff.imread(imagepath2)\n",
    "\n",
    "print(Image1.shape)\n",
    "print(Image2.shape)"
   ]
  },
  {
   "cell_type": "code",
   "execution_count": 14,
   "metadata": {},
   "outputs": [
    {
     "data": {
      "text/plain": [
       "True"
      ]
     },
     "execution_count": 14,
     "metadata": {},
     "output_type": "execute_result"
    }
   ],
   "source": [
    "Path = r'C:\\Users\\sunzh\\CS636\\Summer project\\BPN\\data'\n",
    "os.path.isfile(Path + r'\\FOV\\FOV_%d%d%d_0.tif'%( 16,16,8))"
   ]
  },
  {
   "cell_type": "code",
   "execution_count": 1,
   "metadata": {},
   "outputs": [
    {
     "data": {
      "text/plain": [
       "str"
      ]
     },
     "execution_count": 1,
     "metadata": {},
     "output_type": "execute_result"
    }
   ],
   "source": [
    "imagepath = r'C:\\Users\\sunzh\\CS636\\Summer project\\BPN\\data\\train-input\\train-input.tif'\n",
    "type(imagepath)"
   ]
  },
  {
   "cell_type": "code",
   "execution_count": 6,
   "metadata": {},
   "outputs": [
    {
     "ename": "NameError",
     "evalue": "name 'config' is not defined",
     "output_type": "error",
     "traceback": [
      "\u001b[1;31m---------------------------------------------------------------------------\u001b[0m",
      "\u001b[1;31mNameError\u001b[0m                                 Traceback (most recent call last)",
      "\u001b[1;32m<ipython-input-6-10bdf15487cb>\u001b[0m in \u001b[0;36m<module>\u001b[1;34m\u001b[0m\n\u001b[0;32m      1\u001b[0m \u001b[1;32mfrom\u001b[0m \u001b[0mconfig\u001b[0m \u001b[1;32mimport\u001b[0m \u001b[0mConfig\u001b[0m\u001b[1;33m\u001b[0m\u001b[1;33m\u001b[0m\u001b[0m\n\u001b[1;32m----> 2\u001b[1;33m \u001b[0mC\u001b[0m \u001b[1;33m=\u001b[0m \u001b[0mconfig\u001b[0m\u001b[1;33m.\u001b[0m\u001b[0mConfig\u001b[0m\u001b[1;33m(\u001b[0m\u001b[1;33m)\u001b[0m\u001b[1;33m\u001b[0m\u001b[1;33m\u001b[0m\u001b[0m\n\u001b[0m",
      "\u001b[1;31mNameError\u001b[0m: name 'config' is not defined"
     ]
    }
   ],
   "source": [
    "from config import Config\n"
   ]
  },
  {
   "cell_type": "code",
   "execution_count": 14,
   "metadata": {},
   "outputs": [],
   "source": [
    "imagepath = r'C:\\Users\\sunzh\\CS636\\Summer project\\BPN\\data\\train-input\\train-input.tif'\n",
    "Image = tiff.imread(imagepath)\n",
    "Image = np.transpose(Image, (2,0,1))\n",
    "# Image1 = np.transpose(Image, (2,0,1))\n",
    "\n",
    "patch = Image[0:33,0:33,0:17]\n",
    "tiff.imsave(r'C:\\Users\\sunzh\\CS636\\Summer project\\BPN\\data\\train-input\\train-input-patch.tif',patch)"
   ]
  },
  {
   "cell_type": "code",
   "execution_count": 11,
   "metadata": {},
   "outputs": [
    {
     "name": "stdout",
     "output_type": "stream",
     "text": [
      "Help on function imwrite in module tifffile.tifffile:\n",
      "\n",
      "imwrite(file, data=None, shape=None, dtype=None, **kwargs)\n",
      "    Write numpy array to TIFF file.\n",
      "    \n",
      "    Refer to the TiffWriter class and its asarray function for documentation.\n",
      "    \n",
      "    A BigTIFF file is created if the data size in bytes is larger than 4 GB\n",
      "    minus 32 MB (for metadata), and 'bigtiff' is not specified, and 'imagej'\n",
      "    or 'truncate' are not enabled.\n",
      "    \n",
      "    Parameters\n",
      "    ----------\n",
      "    file : str or binary stream\n",
      "        File name or writable binary stream, such as an open file or BytesIO.\n",
      "    data : array_like\n",
      "        Input image. The last dimensions are assumed to be image depth,\n",
      "        height, width, and samples.\n",
      "        If None, an empty array of the specified shape and dtype is\n",
      "        saved to file.\n",
      "        Unless 'byteorder' is specified in 'kwargs', the TIFF file byte order\n",
      "        is determined from the data's dtype or the dtype argument.\n",
      "    shape : tuple\n",
      "        If 'data' is None, shape of an empty array to save to the file.\n",
      "    dtype : numpy.dtype\n",
      "        If 'data' is None, datatype of an empty array to save to the file.\n",
      "    kwargs : dict\n",
      "        Parameters 'append', 'byteorder', 'bigtiff', and 'imagej', are passed\n",
      "        to the TiffWriter constructor. Other parameters are passed to the\n",
      "        TiffWriter.save function.\n",
      "    \n",
      "    Returns\n",
      "    -------\n",
      "    offset, bytecount : tuple or None\n",
      "        If the image data are written contiguously, return offset and bytecount\n",
      "        of image data in the file.\n",
      "\n"
     ]
    }
   ],
   "source": [
    "help(tiff.imsave)"
   ]
  },
  {
   "cell_type": "code",
   "execution_count": 5,
   "metadata": {},
   "outputs": [
    {
     "data": {
      "text/plain": [
       "array([[[333, 333, 333, ...,   1,   1,   1],\n",
       "        [333, 333, 333, ...,   1,   1,   1],\n",
       "        [333, 333, 333, ...,   1,   1,   1],\n",
       "        ...,\n",
       "        [  0,   0,   0, ...,   1,   1,   1],\n",
       "        [  0,   0,   0, ...,   1,   1,   1],\n",
       "        [  0,   0,   0, ...,   1,   1,   1]],\n",
       "\n",
       "       [[333, 333, 333, ...,   1,   1,   1],\n",
       "        [333, 333, 333, ...,   1,   1,   1],\n",
       "        [333, 333, 333, ...,   1,   1,   1],\n",
       "        ...,\n",
       "        [  0,   0,   0, ...,   1,   1,   1],\n",
       "        [  0,   0,   0, ...,   1,   1,   1],\n",
       "        [  0,   0,   0, ...,   1,   1,   1]],\n",
       "\n",
       "       [[333, 333, 333, ...,   1,   1,   1],\n",
       "        [333, 333, 333, ...,   1,   1,   1],\n",
       "        [333, 333, 333, ...,   1,   1,   1],\n",
       "        ...,\n",
       "        [  0,   0,   0, ...,   1,   1,   1],\n",
       "        [  0,   0,   0, ...,   1,   1,   1],\n",
       "        [  0,   0,   0, ...,   1,   1,   1]],\n",
       "\n",
       "       ...,\n",
       "\n",
       "       [[381, 381, 381, ...,   0,   0,   0],\n",
       "        [381, 381, 381, ...,   0,   0,   0],\n",
       "        [381, 381, 381, ...,   0,   0,   0],\n",
       "        ...,\n",
       "        [  0,   0,   0, ...,  10,  10,  10],\n",
       "        [  0,   0,   0, ...,  10,  10,  10],\n",
       "        [  0,   0,   0, ...,  10,  10,  10]],\n",
       "\n",
       "       [[381, 381, 381, ...,   0,   0,   0],\n",
       "        [381, 381, 381, ...,   0,   0,   0],\n",
       "        [381, 381, 381, ...,   0,   0,   0],\n",
       "        ...,\n",
       "        [  0,   0,   0, ...,  10,  10,  10],\n",
       "        [  0,   0,   0, ...,  10,  10,  10],\n",
       "        [  0,   0,   0, ...,  10,  10,  10]],\n",
       "\n",
       "       [[381, 381, 381, ...,   0,   0,   0],\n",
       "        [381, 381, 381, ...,   0,   0,   0],\n",
       "        [381, 381, 381, ...,   0,   0,   0],\n",
       "        ...,\n",
       "        [  0,   0,   0, ...,  10,  10,  10],\n",
       "        [  0,   0,   0, ...,  10,  10,  10],\n",
       "        [  0,   0,   0, ...,  10,  10,  10]]], dtype=uint16)"
      ]
     },
     "execution_count": 5,
     "metadata": {},
     "output_type": "execute_result"
    }
   ],
   "source": [
    "imagepathpatch = r'C:\\Users\\sunzh\\CS636\\Summer project\\BPN\\data\\train-input\\train-input-patch.tif'\n",
    "labelpath = r'C:\\Users\\sunzh\\CS636\\Summer project\\BPN\\data\\train-labels\\train-labels.tif'\n",
    "\n",
    "ImagePatch = tiff.imread(labelpath)\n",
    "ImagePatch = np.transpose(ImagePatch, (2,0,1))\n",
    "ImagePatch"
   ]
  },
  {
   "cell_type": "code",
   "execution_count": 16,
   "metadata": {},
   "outputs": [
    {
     "data": {
      "text/plain": [
       "array([[[200, 210, 208, ..., 175, 177, 176],\n",
       "        [204, 219, 232, ..., 233, 231, 218],\n",
       "        [174, 173, 179, ..., 185, 184, 173],\n",
       "        ...,\n",
       "        [182, 184, 202, ..., 196, 199, 203],\n",
       "        [183, 197, 217, ..., 224, 230, 234],\n",
       "        [192, 190, 198, ..., 240, 234, 245]],\n",
       "\n",
       "       [[184, 206, 210, ..., 173, 167, 175],\n",
       "        [208, 216, 236, ..., 222, 221, 219],\n",
       "        [169, 171, 182, ..., 186, 175, 165],\n",
       "        ...,\n",
       "        [195, 197, 213, ..., 179, 194, 201],\n",
       "        [184, 200, 220, ..., 234, 232, 231],\n",
       "        [201, 205, 199, ..., 241, 243, 239]],\n",
       "\n",
       "       [[180, 194, 211, ..., 181, 175, 184],\n",
       "        [207, 215, 226, ..., 224, 225, 214],\n",
       "        [165, 172, 188, ..., 179, 173, 149],\n",
       "        ...,\n",
       "        [209, 205, 210, ..., 169, 196, 198],\n",
       "        [186, 196, 206, ..., 227, 227, 229],\n",
       "        [222, 216, 218, ..., 235, 244, 239]],\n",
       "\n",
       "       ...,\n",
       "\n",
       "       [[185, 175, 174, ..., 192, 182, 177],\n",
       "        [182, 189, 188, ..., 191, 195, 222],\n",
       "        [120, 138, 136, ..., 163, 146, 150],\n",
       "        ...,\n",
       "        [166, 166, 177, ...,  94, 123, 166],\n",
       "        [227, 222, 210, ..., 230, 233, 227],\n",
       "        [219, 227, 236, ..., 202, 191, 191]],\n",
       "\n",
       "       [[175, 164, 166, ..., 191, 194, 182],\n",
       "        [176, 180, 198, ..., 198, 200, 215],\n",
       "        [123, 129, 131, ..., 169, 156, 159],\n",
       "        ...,\n",
       "        [182, 204, 195, ..., 116, 142, 194],\n",
       "        [226, 219, 208, ..., 229, 228, 214],\n",
       "        [221, 231, 234, ..., 196, 192, 191]],\n",
       "\n",
       "       [[163, 177, 177, ..., 180, 181, 172],\n",
       "        [175, 184, 197, ..., 216, 212, 224],\n",
       "        [130, 126, 138, ..., 167, 168, 172],\n",
       "        ...,\n",
       "        [192, 206, 193, ..., 129, 157, 190],\n",
       "        [222, 224, 219, ..., 227, 219, 216],\n",
       "        [224, 230, 231, ..., 193, 192, 200]]], dtype=uint8)"
      ]
     },
     "execution_count": 16,
     "metadata": {},
     "output_type": "execute_result"
    }
   ],
   "source": [
    "Image[0:33,0:33,0:17]"
   ]
  },
  {
   "cell_type": "code",
   "execution_count": 2,
   "metadata": {},
   "outputs": [
    {
     "data": {
      "text/plain": [
       "0"
      ]
     },
     "execution_count": 2,
     "metadata": {},
     "output_type": "execute_result"
    }
   ],
   "source": [
    "int(1/2)"
   ]
  },
  {
   "cell_type": "code",
   "execution_count": 12,
   "metadata": {},
   "outputs": [
    {
     "name": "stdout",
     "output_type": "stream",
     "text": [
      "Images are read now\n"
     ]
    },
    {
     "ename": "MemoryError",
     "evalue": "",
     "output_type": "error",
     "traceback": [
      "\u001b[1;31m---------------------------------------------------------------------------\u001b[0m",
      "\u001b[1;31mMemoryError\u001b[0m                               Traceback (most recent call last)",
      "\u001b[1;32m<ipython-input-12-a9f20194dff1>\u001b[0m in \u001b[0;36m<module>\u001b[1;34m\u001b[0m\n\u001b[0;32m      7\u001b[0m \u001b[1;33m\u001b[0m\u001b[0m\n\u001b[0;32m      8\u001b[0m \u001b[1;33m\u001b[0m\u001b[0m\n\u001b[1;32m----> 9\u001b[1;33m \u001b[0mFOV\u001b[0m\u001b[1;33m,\u001b[0m \u001b[0mFOV_label\u001b[0m\u001b[1;33m,\u001b[0m\u001b[0mFOV_IM\u001b[0m\u001b[1;33m,\u001b[0m \u001b[0mImage\u001b[0m \u001b[1;33m=\u001b[0m \u001b[0mget_data\u001b[0m\u001b[1;33m(\u001b[0m\u001b[0mimagepath\u001b[0m\u001b[1;33m,\u001b[0m \u001b[0mlabelpath\u001b[0m\u001b[1;33m,\u001b[0m \u001b[0mpromappath\u001b[0m\u001b[1;33m,\u001b[0m\u001b[1;34m'NONE'\u001b[0m\u001b[1;33m,\u001b[0m\u001b[1;33m[\u001b[0m\u001b[1;36m15\u001b[0m\u001b[1;33m,\u001b[0m\u001b[1;36m15\u001b[0m\u001b[1;33m,\u001b[0m\u001b[1;36m7\u001b[0m\u001b[1;33m]\u001b[0m\u001b[1;33m,\u001b[0m \u001b[1;32mFalse\u001b[0m\u001b[1;33m)\u001b[0m\u001b[1;33m\u001b[0m\u001b[1;33m\u001b[0m\u001b[0m\n\u001b[0m",
      "\u001b[1;32m<ipython-input-11-26bea7f752f1>\u001b[0m in \u001b[0;36mget_data\u001b[1;34m(input_image, input_label, input_probability_map, Padding, Size, Sample, Stride, Depth_Stride)\u001b[0m\n\u001b[0;32m     42\u001b[0m                 \u001b[0mEnd_z\u001b[0m \u001b[1;33m=\u001b[0m \u001b[0mint\u001b[0m\u001b[1;33m(\u001b[0m\u001b[0mImage\u001b[0m\u001b[1;33m.\u001b[0m\u001b[0mshape\u001b[0m\u001b[1;33m[\u001b[0m\u001b[1;36m2\u001b[0m\u001b[1;33m]\u001b[0m \u001b[1;33m-\u001b[0m \u001b[1;33m(\u001b[0m\u001b[0mSize\u001b[0m\u001b[1;33m[\u001b[0m\u001b[1;36m2\u001b[0m\u001b[1;33m]\u001b[0m\u001b[1;33m-\u001b[0m\u001b[1;36m1\u001b[0m\u001b[1;33m)\u001b[0m\u001b[1;33m/\u001b[0m\u001b[1;36m2\u001b[0m\u001b[1;33m)\u001b[0m\u001b[1;33m\u001b[0m\u001b[1;33m\u001b[0m\u001b[0m\n\u001b[0;32m     43\u001b[0m \u001b[1;33m\u001b[0m\u001b[0m\n\u001b[1;32m---> 44\u001b[1;33m                 \u001b[0mFOV\u001b[0m \u001b[1;33m=\u001b[0m \u001b[0mnp\u001b[0m\u001b[1;33m.\u001b[0m\u001b[0mzeros\u001b[0m\u001b[1;33m(\u001b[0m\u001b[1;33m(\u001b[0m\u001b[0mEnd_xy\u001b[0m \u001b[1;33m-\u001b[0m \u001b[0mStart_xy\u001b[0m \u001b[1;33m+\u001b[0m\u001b[1;36m1\u001b[0m\u001b[1;33m,\u001b[0m \u001b[0mEnd_xy\u001b[0m \u001b[1;33m-\u001b[0m \u001b[0mStart_xy\u001b[0m\u001b[1;33m+\u001b[0m\u001b[1;36m1\u001b[0m\u001b[1;33m,\u001b[0m \u001b[0mEnd_z\u001b[0m \u001b[1;33m-\u001b[0m \u001b[0mStart_z\u001b[0m \u001b[1;33m+\u001b[0m\u001b[1;36m1\u001b[0m\u001b[1;33m,\u001b[0m \u001b[0mSize\u001b[0m\u001b[1;33m[\u001b[0m\u001b[1;36m0\u001b[0m\u001b[1;33m]\u001b[0m\u001b[1;33m,\u001b[0m \u001b[0mSize\u001b[0m\u001b[1;33m[\u001b[0m\u001b[1;36m1\u001b[0m\u001b[1;33m]\u001b[0m\u001b[1;33m,\u001b[0m \u001b[0mSize\u001b[0m\u001b[1;33m[\u001b[0m\u001b[1;36m2\u001b[0m\u001b[1;33m]\u001b[0m\u001b[1;33m)\u001b[0m\u001b[1;33m)\u001b[0m\u001b[1;33m.\u001b[0m\u001b[0mastype\u001b[0m\u001b[1;33m(\u001b[0m\u001b[1;34m'int8'\u001b[0m\u001b[1;33m)\u001b[0m\u001b[1;33m\u001b[0m\u001b[1;33m\u001b[0m\u001b[0m\n\u001b[0m\u001b[0;32m     45\u001b[0m                 \u001b[0mFOV_label\u001b[0m \u001b[1;33m=\u001b[0m \u001b[0mnp\u001b[0m\u001b[1;33m.\u001b[0m\u001b[0mzeros\u001b[0m\u001b[1;33m(\u001b[0m\u001b[1;33m(\u001b[0m\u001b[0mEnd_xy\u001b[0m \u001b[1;33m-\u001b[0m \u001b[0mStart_xy\u001b[0m \u001b[1;33m+\u001b[0m\u001b[1;36m1\u001b[0m\u001b[1;33m,\u001b[0m \u001b[0mEnd_xy\u001b[0m \u001b[1;33m-\u001b[0m \u001b[0mStart_xy\u001b[0m\u001b[1;33m+\u001b[0m\u001b[1;36m1\u001b[0m\u001b[1;33m,\u001b[0m \u001b[0mEnd_z\u001b[0m \u001b[1;33m-\u001b[0m \u001b[0mStart_z\u001b[0m \u001b[1;33m+\u001b[0m\u001b[1;36m1\u001b[0m\u001b[1;33m,\u001b[0m \u001b[0mSize\u001b[0m\u001b[1;33m[\u001b[0m\u001b[1;36m0\u001b[0m\u001b[1;33m]\u001b[0m\u001b[1;33m,\u001b[0m \u001b[0mSize\u001b[0m\u001b[1;33m[\u001b[0m\u001b[1;36m1\u001b[0m\u001b[1;33m]\u001b[0m\u001b[1;33m,\u001b[0m \u001b[0mSize\u001b[0m\u001b[1;33m[\u001b[0m\u001b[1;36m2\u001b[0m\u001b[1;33m]\u001b[0m\u001b[1;33m)\u001b[0m\u001b[1;33m)\u001b[0m\u001b[1;33m.\u001b[0m\u001b[0mastype\u001b[0m\u001b[1;33m(\u001b[0m\u001b[1;34m'int8'\u001b[0m\u001b[1;33m)\u001b[0m\u001b[1;33m\u001b[0m\u001b[1;33m\u001b[0m\u001b[0m\n\u001b[0;32m     46\u001b[0m                 \u001b[0mFOV_Im\u001b[0m  \u001b[1;33m=\u001b[0m \u001b[0mnp\u001b[0m\u001b[1;33m.\u001b[0m\u001b[0mzeros\u001b[0m\u001b[1;33m(\u001b[0m\u001b[1;33m(\u001b[0m\u001b[0mEnd_xy\u001b[0m \u001b[1;33m-\u001b[0m \u001b[0mStart_xy\u001b[0m \u001b[1;33m+\u001b[0m\u001b[1;36m1\u001b[0m\u001b[1;33m,\u001b[0m \u001b[0mEnd_xy\u001b[0m \u001b[1;33m-\u001b[0m \u001b[0mStart_xy\u001b[0m\u001b[1;33m+\u001b[0m\u001b[1;36m1\u001b[0m\u001b[1;33m,\u001b[0m \u001b[0mEnd_z\u001b[0m \u001b[1;33m-\u001b[0m \u001b[0mStart_z\u001b[0m \u001b[1;33m+\u001b[0m\u001b[1;36m1\u001b[0m\u001b[1;33m,\u001b[0m \u001b[0mSize\u001b[0m\u001b[1;33m[\u001b[0m\u001b[1;36m0\u001b[0m\u001b[1;33m]\u001b[0m\u001b[1;33m,\u001b[0m \u001b[0mSize\u001b[0m\u001b[1;33m[\u001b[0m\u001b[1;36m1\u001b[0m\u001b[1;33m]\u001b[0m\u001b[1;33m,\u001b[0m \u001b[0mSize\u001b[0m\u001b[1;33m[\u001b[0m\u001b[1;36m2\u001b[0m\u001b[1;33m]\u001b[0m\u001b[1;33m)\u001b[0m\u001b[1;33m)\u001b[0m\u001b[1;33m.\u001b[0m\u001b[0mastype\u001b[0m\u001b[1;33m(\u001b[0m\u001b[1;34m'int8'\u001b[0m\u001b[1;33m)\u001b[0m\u001b[1;33m\u001b[0m\u001b[1;33m\u001b[0m\u001b[0m\n",
      "\u001b[1;31mMemoryError\u001b[0m: "
     ]
    }
   ],
   "source": [
    "\n",
    "\n",
    "imagepath = r'C:\\Users\\sunzh\\CS636\\Summer project\\BPN\\data\\train-input\\train-input.tif'\n",
    "labelpath = r'C:\\Users\\sunzh\\CS636\\Summer project\\BPN\\data\\train-labels\\train-labels.tif'\n",
    "promappath = labelpath\n",
    "\n",
    "\n",
    "\n",
    "FOV, FOV_label,FOV_IM, Image = get_data(imagepath, labelpath, promappath,'NONE',[15,15,7], False)"
   ]
  },
  {
   "cell_type": "code",
   "execution_count": 11,
   "metadata": {},
   "outputs": [],
   "source": [
    "def get_data(input_image = None ,input_label = None, input_probability_map= None, Padding = 'NONE', Size = None ,Sample = False, Stride = 1, Depth_Stride = 1 ):\n",
    "\t\"\"\"\n",
    "\tThis function is the preprocess of the input image,\n",
    "\tit will return 4 np.array: FOV, Cropped Original Image, Cropped label and Full-sized Original Image\n",
    "\n",
    "\tinput_path : path of the folder of the input training image, from parser\n",
    "\tPadding : The model of paading used here, from parser\n",
    "\tSize : The size of Field Of View(FOV), from config\n",
    "\n",
    "\tSample : Using sample mode or not, from config\n",
    "\tStride : Stride on Height and Width, from config\n",
    "\tDepth_Stride : Stride on Depth, from config\n",
    "\t\"\"\"\n",
    "\n",
    "\tif Sample == True:\n",
    "\t\traise ValueError(\"Sample mode has not been implemented\")\n",
    "\tif Size == None or len(Size) != 3:\n",
    "\t\traise ValueError(\"Please specify the size of FOV, it must be in the format of [x,y,z]\")\n",
    "\n",
    "\t# prefilepath = r'C:\\Users\\sunzh\\CS636\\Summer project\\BPN\\data\\train-input-split\\train-input-'\n",
    "\n",
    "\t## Read the image, label and probability map\n",
    "\tImage = tiff.imread(input_image)\n",
    "\tLabel = tiff.imread(input_label)\n",
    "\tPromap = tiff.imread(input_probability_map)\n",
    "\tImage = np.transpose(Image, (2,0,1)).astype('int8')\n",
    "\tLabel = np.transpose(Label, (2,0,1)).astype('int8')\n",
    "\tPromap = np.transpose(Promap, (2,0,1)).astype('int8')\n",
    "\n",
    "\tprint(\"Images are read now\")\n",
    "\n",
    "\tif Image.shape != Label.shape or Image.shape != Promap.shape or Label.shape != Promap.shape:\n",
    "\t\traise ValueError(\"ValueError: Image, Promap and Label should have the same size with each other\")\n",
    "\n",
    "\n",
    "\tr_xy = int((Size[0]-1)/2)\n",
    "\tr_z = int((Size[2]-1) /2)\n",
    "\tif Padding == 'NONE':\n",
    "\t\tStart_xy = int((Size[0]-1)/2)\n",
    "\t\tEnd_xy = int(Image.shape[0] - (Size[0]-1)/2)\n",
    "\t\tStart_z = int((Size[2]-1)/2)\n",
    "\t\tEnd_z = int(Image.shape[2] - (Size[2]-1)/2)\n",
    "\n",
    "\t\tFOV = np.zeros((End_xy - Start_xy +1, End_xy - Start_xy+1, End_z - Start_z +1, Size[0], Size[1], Size[2])).astype('int8')\n",
    "\t\tFOV_label = np.zeros((End_xy - Start_xy +1, End_xy - Start_xy+1, End_z - Start_z +1, Size[0], Size[1], Size[2])).astype('int8')\n",
    "\t\tFOV_Im  = np.zeros((End_xy - Start_xy +1, End_xy - Start_xy+1, End_z - Start_z +1, Size[0], Size[1], Size[2])).astype('int8')\n",
    "\n",
    "\t\tfor i in range(Start_xy, End_xy):\n",
    "\t\t\tfor j in range(Start_z, End_xy):\n",
    "\t\t\t\tFOV[i-Start_xy,i-Start_z,j-Start_z,:,:,:] = Promap[i-Start_xy:i-Start_xy+Size[0], i-Start_xy:i-Start_xy+Size[1], j-Start_z:j-Start_z+Size[2] ]\n",
    "\t\t\t\tFOV_label[i-Start_xy,i-Start_z,j-Start_z,:,:,:] = Label[i-Start_xy:i-Start_xy+Size[0], i-Start_xy:i-Start_xy+Size[1], j-Start_z:j-Start_z+Size[2] ]\n",
    "\t\t\t\tFOV_Im[i-Start_xy,i-Start_z,j-Start_z,:,:,:] = Image[i-Start_xy:i-Start_xy+Size[0], i-Start_xy:i-Start_xy+Size[1], j-Start_z:j-Start_z+Size[2] ]\n",
    "\n",
    "\t\treturn FOV, FOV_label, FOV_Im, Image\n",
    "\telif Padding == 'SAME':\n",
    "\t\tFOV = np.zeros((Promap.shape[0],Promap.shape[1],Promap.shape[2], Size[0], Size[1], Size[2])).astype('int8')\n",
    "\t\tFOV_label = np.zeros((Label.shape[0],Label.shape[1],Label.shape[2], Size[0], Size[1], Size[2])).astype('int8')\n",
    "\t\tFOV_Im  =  np.zeros((Image.shape[0],Image.shape[1],Image.shape[2], Size[0], Size[1], Size[2])).astype('int8')\n",
    "\n",
    "\t\tfor i in range(0,Image.shape[0]):\n",
    "\t\t\tfor j in range(0, Image.shape[2]):\n",
    "\t\t\t\tStart_xy = int(max(0, i- r_xy))\n",
    "\t\t\t\tEnd_xy = int(min(i+r_xy+1,Promap.shape[1]))\n",
    "\t\t\t\tStart_z = int(max(0,j-r_z))\n",
    "\t\t\t\tEnd_z = int(min(j+r_z+1,Promap.shape[2]))\n",
    "\n",
    "\t\t\t\tFOV[i, i, j, r_xy-(i-Start_xy):r_xy+(End_xy-i),r_xy-(i-Start_xy):r_xy+(End_xy-i), r_z-(i-Start_z):r_z+(End_z-i)] = Promap[Start_xy:End_xy, Start_xy:End_xy, Start_z:End_z]\n",
    "\t\t\t\tFOV_label[i, i, j, r_xy-(i-Start_xy):r_xy+(End_xy-i),r_xy-(i-Start_xy):r_xy+(End_xy-i), r_z-(i-Start_z):r_z+(End_z-i)] = Label[Start_xy:End_xy, Start_xy:End_xy, Start_z:End_z]\n",
    "\t\t\t\tFOV_Im[i, i, j, r_xy-(i-Start_xy):r_xy+(End_xy-i),r_xy-(i-Start_xy):r_xy+(End_xy-i), r_z-(i-Start_z):r_z+(End_z-i)] = Image[Start_xy:End_xy, Start_xy:End_xy, Start_z:End_z]\n",
    "\n",
    "\t\treturn FOV, FOV_label, FOV_Im, Image\n",
    "\telse:\n",
    "\t\traise ValueError(\"Padding only support SAME and NONE now\")"
   ]
  },
  {
   "cell_type": "code",
   "execution_count": 3,
   "metadata": {},
   "outputs": [
    {
     "name": "stdout",
     "output_type": "stream",
     "text": [
      "Images are read now\n"
     ]
    },
    {
     "ename": "MemoryError",
     "evalue": "",
     "output_type": "error",
     "traceback": [
      "\u001b[1;31m---------------------------------------------------------------------------\u001b[0m",
      "\u001b[1;31mMemoryError\u001b[0m                               Traceback (most recent call last)",
      "\u001b[1;32m<ipython-input-3-151c49aafedf>\u001b[0m in \u001b[0;36m<module>\u001b[1;34m\u001b[0m\n\u001b[0;32m     42\u001b[0m     \u001b[0mEnd_z\u001b[0m \u001b[1;33m=\u001b[0m \u001b[0mint\u001b[0m\u001b[1;33m(\u001b[0m\u001b[0mImage\u001b[0m\u001b[1;33m.\u001b[0m\u001b[0mshape\u001b[0m\u001b[1;33m[\u001b[0m\u001b[1;36m2\u001b[0m\u001b[1;33m]\u001b[0m \u001b[1;33m-\u001b[0m \u001b[1;33m(\u001b[0m\u001b[0mSize\u001b[0m\u001b[1;33m[\u001b[0m\u001b[1;36m2\u001b[0m\u001b[1;33m]\u001b[0m\u001b[1;33m-\u001b[0m\u001b[1;36m1\u001b[0m\u001b[1;33m)\u001b[0m\u001b[1;33m/\u001b[0m\u001b[1;36m2\u001b[0m\u001b[1;33m)\u001b[0m\u001b[1;33m\u001b[0m\u001b[1;33m\u001b[0m\u001b[0m\n\u001b[0;32m     43\u001b[0m \u001b[1;33m\u001b[0m\u001b[0m\n\u001b[1;32m---> 44\u001b[1;33m     \u001b[0mFOV\u001b[0m \u001b[1;33m=\u001b[0m \u001b[0mnp\u001b[0m\u001b[1;33m.\u001b[0m\u001b[0mzeros\u001b[0m\u001b[1;33m(\u001b[0m\u001b[1;33m(\u001b[0m\u001b[0mEnd_xy\u001b[0m \u001b[1;33m-\u001b[0m \u001b[0mStart_xy\u001b[0m \u001b[1;33m+\u001b[0m\u001b[1;36m1\u001b[0m\u001b[1;33m,\u001b[0m \u001b[0mEnd_xy\u001b[0m \u001b[1;33m-\u001b[0m \u001b[0mStart_xy\u001b[0m\u001b[1;33m+\u001b[0m\u001b[1;36m1\u001b[0m\u001b[1;33m,\u001b[0m \u001b[0mEnd_z\u001b[0m \u001b[1;33m-\u001b[0m \u001b[0mStart_z\u001b[0m \u001b[1;33m+\u001b[0m\u001b[1;36m1\u001b[0m\u001b[1;33m,\u001b[0m \u001b[0mSize\u001b[0m\u001b[1;33m[\u001b[0m\u001b[1;36m0\u001b[0m\u001b[1;33m]\u001b[0m\u001b[1;33m,\u001b[0m \u001b[0mSize\u001b[0m\u001b[1;33m[\u001b[0m\u001b[1;36m1\u001b[0m\u001b[1;33m]\u001b[0m\u001b[1;33m,\u001b[0m \u001b[0mSize\u001b[0m\u001b[1;33m[\u001b[0m\u001b[1;36m2\u001b[0m\u001b[1;33m]\u001b[0m\u001b[1;33m)\u001b[0m\u001b[1;33m)\u001b[0m\u001b[1;33m.\u001b[0m\u001b[0mastype\u001b[0m\u001b[1;33m(\u001b[0m\u001b[1;34m'int8'\u001b[0m\u001b[1;33m)\u001b[0m\u001b[1;33m\u001b[0m\u001b[1;33m\u001b[0m\u001b[0m\n\u001b[0m\u001b[0;32m     45\u001b[0m     \u001b[0mFOV_label\u001b[0m \u001b[1;33m=\u001b[0m \u001b[0mnp\u001b[0m\u001b[1;33m.\u001b[0m\u001b[0mzeros\u001b[0m\u001b[1;33m(\u001b[0m\u001b[1;33m(\u001b[0m\u001b[0mEnd_xy\u001b[0m \u001b[1;33m-\u001b[0m \u001b[0mStart_xy\u001b[0m \u001b[1;33m+\u001b[0m\u001b[1;36m1\u001b[0m\u001b[1;33m,\u001b[0m \u001b[0mEnd_xy\u001b[0m \u001b[1;33m-\u001b[0m \u001b[0mStart_xy\u001b[0m\u001b[1;33m+\u001b[0m\u001b[1;36m1\u001b[0m\u001b[1;33m,\u001b[0m \u001b[0mEnd_z\u001b[0m \u001b[1;33m-\u001b[0m \u001b[0mStart_z\u001b[0m \u001b[1;33m+\u001b[0m\u001b[1;36m1\u001b[0m\u001b[1;33m,\u001b[0m \u001b[0mSize\u001b[0m\u001b[1;33m[\u001b[0m\u001b[1;36m0\u001b[0m\u001b[1;33m]\u001b[0m\u001b[1;33m,\u001b[0m \u001b[0mSize\u001b[0m\u001b[1;33m[\u001b[0m\u001b[1;36m1\u001b[0m\u001b[1;33m]\u001b[0m\u001b[1;33m,\u001b[0m \u001b[0mSize\u001b[0m\u001b[1;33m[\u001b[0m\u001b[1;36m2\u001b[0m\u001b[1;33m]\u001b[0m\u001b[1;33m)\u001b[0m\u001b[1;33m)\u001b[0m\u001b[1;33m.\u001b[0m\u001b[0mastype\u001b[0m\u001b[1;33m(\u001b[0m\u001b[1;34m'int8'\u001b[0m\u001b[1;33m)\u001b[0m\u001b[1;33m\u001b[0m\u001b[1;33m\u001b[0m\u001b[0m\n\u001b[0;32m     46\u001b[0m     \u001b[0mFOV_Im\u001b[0m  \u001b[1;33m=\u001b[0m \u001b[0mnp\u001b[0m\u001b[1;33m.\u001b[0m\u001b[0mzeros\u001b[0m\u001b[1;33m(\u001b[0m\u001b[1;33m(\u001b[0m\u001b[0mEnd_xy\u001b[0m \u001b[1;33m-\u001b[0m \u001b[0mStart_xy\u001b[0m \u001b[1;33m+\u001b[0m\u001b[1;36m1\u001b[0m\u001b[1;33m,\u001b[0m \u001b[0mEnd_xy\u001b[0m \u001b[1;33m-\u001b[0m \u001b[0mStart_xy\u001b[0m\u001b[1;33m+\u001b[0m\u001b[1;36m1\u001b[0m\u001b[1;33m,\u001b[0m \u001b[0mEnd_z\u001b[0m \u001b[1;33m-\u001b[0m \u001b[0mStart_z\u001b[0m \u001b[1;33m+\u001b[0m\u001b[1;36m1\u001b[0m\u001b[1;33m,\u001b[0m \u001b[0mSize\u001b[0m\u001b[1;33m[\u001b[0m\u001b[1;36m0\u001b[0m\u001b[1;33m]\u001b[0m\u001b[1;33m,\u001b[0m \u001b[0mSize\u001b[0m\u001b[1;33m[\u001b[0m\u001b[1;36m1\u001b[0m\u001b[1;33m]\u001b[0m\u001b[1;33m,\u001b[0m \u001b[0mSize\u001b[0m\u001b[1;33m[\u001b[0m\u001b[1;36m2\u001b[0m\u001b[1;33m]\u001b[0m\u001b[1;33m)\u001b[0m\u001b[1;33m)\u001b[0m\u001b[1;33m.\u001b[0m\u001b[0mastype\u001b[0m\u001b[1;33m(\u001b[0m\u001b[1;34m'int8'\u001b[0m\u001b[1;33m)\u001b[0m\u001b[1;33m\u001b[0m\u001b[1;33m\u001b[0m\u001b[0m\n",
      "\u001b[1;31mMemoryError\u001b[0m: "
     ]
    }
   ],
   "source": [
    "\n",
    "input_image = r'C:\\Users\\sunzh\\CS636\\Summer project\\BPN\\data\\train-input\\train-input.tif' \n",
    "input_label = r'C:\\Users\\sunzh\\CS636\\Summer project\\BPN\\data\\train-labels\\train-labels.tif'\n",
    "input_probability_map= r'C:\\Users\\sunzh\\CS636\\Summer project\\BPN\\data\\train-labels\\train-labels.tif'\n",
    "Padding = 'NONE'\n",
    "Size = [15,15,7]\n",
    "Sample = False\n",
    "Stride = 1\n",
    "Depth_Stride = 1 \n",
    "\n",
    "\n",
    "\n",
    "\n",
    "\n",
    "if Sample == True:\n",
    "    raise ValueError(\"Sample mode has not been implemented\")\n",
    "if Size == None or len(Size) != 3:\n",
    "    raise ValueError(\"Please specify the size of FOV, it must be in the format of [x,y,z]\")\n",
    "\n",
    "# prefilepath = r'C:\\Users\\sunzh\\CS636\\Summer project\\BPN\\data\\train-input-split\\train-input-'\n",
    "\n",
    "## Read the image, label and probability map\n",
    "Image = tiff.imread(input_image)\n",
    "Label = tiff.imread(input_label)\n",
    "Promap = tiff.imread(input_probability_map)\n",
    "Image = np.transpose(Image, (2,0,1)).astype('int8')\n",
    "Label = np.transpose(Label, (2,0,1)).astype('int8')\n",
    "Promap = np.transpose(Promap, (2,0,1)).astype('int8')\n",
    "\n",
    "print(\"Images are read now\")\n",
    "\n",
    "if Image.shape != Label.shape or Image.shape != Promap.shape or Label.shape != Promap.shape:\n",
    "    raise ValueError(\"ValueError: Image, Promap and Label should have the same size with each other\")\n",
    "\n",
    "\n",
    "r_xy = int((Size[0]-1)/2)\n",
    "r_z = int((Size[2]-1) /2)\n",
    "if Padding == 'NONE':\n",
    "    Start_xy = int((Size[0]-1)/2)\n",
    "    End_xy = int(Image.shape[0] - (Size[0]-1)/2)\n",
    "    Start_z = int((Size[2]-1)/2)\n",
    "    End_z = int(Image.shape[2] - (Size[2]-1)/2)\n",
    "\n",
    "    FOV = np.zeros((End_xy - Start_xy +1, End_xy - Start_xy+1, End_z - Start_z +1, Size[0], Size[1], Size[2])).astype('int8')\n",
    "    FOV_label = np.zeros((End_xy - Start_xy +1, End_xy - Start_xy+1, End_z - Start_z +1, Size[0], Size[1], Size[2])).astype('int8')\n",
    "    FOV_Im  = np.zeros((End_xy - Start_xy +1, End_xy - Start_xy+1, End_z - Start_z +1, Size[0], Size[1], Size[2])).astype('int8')\n",
    "\n",
    "    for i in range(Start_xy, End_xy):\n",
    "        for j in range(Start_z, End_xy):\n",
    "            FOV[i-Start_xy,i-Start_z,j-Start_z,:,:,:] = Promap[i-Start_xy:i-Start_xy+Size[0], i-Start_xy:i-Start_xy+Size[1], j-Start_z:j-Start_z+Size[2] ]\n",
    "            FOV_label[i-Start_xy,i-Start_z,j-Start_z,:,:,:] = Label[i-Start_xy:i-Start_xy+Size[0], i-Start_xy:i-Start_xy+Size[1], j-Start_z:j-Start_z+Size[2] ]\n",
    "            FOV_Im[i-Start_xy,i-Start_z,j-Start_z,:,:,:] = Image[i-Start_xy:i-Start_xy+Size[0], i-Start_xy:i-Start_xy+Size[1], j-Start_z:j-Start_z+Size[2] ]\n",
    "\n",
    "#     return FOV, FOV_label, FOV_Im, Image\n",
    "elif Padding == 'SAME':\n",
    "    FOV = np.zeros((Promap.shape[0],Promap.shape[1],Promap.shape[2], Size[0], Size[1], Size[2])).astype('int8')\n",
    "    FOV_label = np.zeros((Label.shape[0],Label.shape[1],Label.shape[2], Size[0], Size[1], Size[2])).astype('int8')\n",
    "    FOV_Im  =  np.zeros((Image.shape[0],Image.shape[1],Image.shape[2], Size[0], Size[1], Size[2])).astype('int8')\n",
    "\n",
    "    for i in range(0,Image.shape[0]):\n",
    "        for j in range(0, Image.shape[2]):\n",
    "            Start_xy = int(max(0, i- r_xy))\n",
    "            End_xy = int(min(i+r_xy+1,Promap.shape[1]))\n",
    "            Start_z = int(max(0,j-r_z))\n",
    "            End_z = int(min(j+r_z+1,Promap.shape[2]))\n",
    "\n",
    "            FOV[i, i, j, r_xy-(i-Start_xy):r_xy+(End_xy-i),r_xy-(i-Start_xy):r_xy+(End_xy-i), r_z-(i-Start_z):r_z+(End_z-i)] = Promap[Start_xy:End_xy, Start_xy:End_xy, Start_z:End_z]\n",
    "            FOV_label[i, i, j, r_xy-(i-Start_xy):r_xy+(End_xy-i),r_xy-(i-Start_xy):r_xy+(End_xy-i), r_z-(i-Start_z):r_z+(End_z-i)] = Label[Start_xy:End_xy, Start_xy:End_xy, Start_z:End_z]\n",
    "            FOV_Im[i, i, j, r_xy-(i-Start_xy):r_xy+(End_xy-i),r_xy-(i-Start_xy):r_xy+(End_xy-i), r_z-(i-Start_z):r_z+(End_z-i)] = Image[Start_xy:End_xy, Start_xy:End_xy, Start_z:End_z]\n",
    "\n",
    "#     return FOV, FOV_label, FOV_Im, Image\n",
    "else:\n",
    "    raise ValueError(\"Padding only support SAME and NONE now\")"
   ]
  },
  {
   "cell_type": "code",
   "execution_count": 6,
   "metadata": {},
   "outputs": [
    {
     "ename": "ModuleNotFoundError",
     "evalue": "No module named 'tensorflow.keras.preprocessing.image.DirectoryIterator'",
     "output_type": "error",
     "traceback": [
      "\u001b[1;31m---------------------------------------------------------------------------\u001b[0m",
      "\u001b[1;31mModuleNotFoundError\u001b[0m                       Traceback (most recent call last)",
      "\u001b[1;32m<ipython-input-6-5549da8165cc>\u001b[0m in \u001b[0;36m<module>\u001b[1;34m\u001b[0m\n\u001b[1;32m----> 1\u001b[1;33m \u001b[1;32mimport\u001b[0m \u001b[0mtensorflow\u001b[0m\u001b[1;33m.\u001b[0m\u001b[0mkeras\u001b[0m\u001b[1;33m.\u001b[0m\u001b[0mpreprocessing\u001b[0m\u001b[1;33m.\u001b[0m\u001b[0mimage\u001b[0m\u001b[1;33m.\u001b[0m\u001b[0mDirectoryIterator\u001b[0m\u001b[1;33m\u001b[0m\u001b[1;33m\u001b[0m\u001b[0m\n\u001b[0m",
      "\u001b[1;31mModuleNotFoundError\u001b[0m: No module named 'tensorflow.keras.preprocessing.image.DirectoryIterator'"
     ]
    }
   ],
   "source": [
    "import tensorflow.keras.preprocessing.image."
   ]
  },
  {
   "cell_type": "code",
   "execution_count": null,
   "metadata": {},
   "outputs": [],
   "source": []
  }
 ],
 "metadata": {
  "kernelspec": {
   "display_name": "Python 3",
   "language": "python",
   "name": "python3"
  },
  "language_info": {
   "codemirror_mode": {
    "name": "ipython",
    "version": 3
   },
   "file_extension": ".py",
   "mimetype": "text/x-python",
   "name": "python",
   "nbconvert_exporter": "python",
   "pygments_lexer": "ipython3",
   "version": "3.6.8"
  }
 },
 "nbformat": 4,
 "nbformat_minor": 2
}
